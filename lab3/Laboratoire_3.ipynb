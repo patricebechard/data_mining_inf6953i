{
 "cells": [
  {
   "cell_type": "markdown",
   "metadata": {},
   "source": [
    "# INF6953I - C.SPÉC.: Fouille de données \n",
    "## TP3 - Summer 2018\n",
    "### Team Components\n",
    "    - Patrice Béchard\n",
    "    - Soufiane Lamghari\n"
   ]
  },
  {
   "cell_type": "code",
   "execution_count": 1,
   "metadata": {},
   "outputs": [],
   "source": [
    "#need to run this on Ubuntu\n",
    "\n",
    "import findspark\n",
    "import os\n",
    "\n",
    "findspark.init()"
   ]
  },
  {
   "cell_type": "markdown",
   "metadata": {},
   "source": [
    "## Market Basket Analysis\n",
    "Market Basket Analysis (MBA) is a well-known data mining technique to uncover associations between products or product grouping. MBA aims to explore interesting patterns from a large collection of data, for example:\n",
    "millions of supermarket transactions, online orders or credit card history. In other words, MBA allows retailers to identify the relationship between the items that people buy, i.e., reveal patterns of items often purchased together. \n",
    "\n",
    "A widely approach to explore these patterns is by constructing $\\textit{association rules}$ such as\n",
    "\n",
    "<center> **if** bought *product1* **then** will buy *product2* with **confidence** *x*. </center>\n",
    "\n",
    "Then, marketers may use these association rules to allocate correlated products close to each other on store shelves or make online suggestions so that customers buy more items. However, mining association rules for large datasets is a very computationally intensive problem, which makes it almost impractical to perform it without a distributed system.\n",
    "\n",
    "Hence, your goal in this TP is to create a **MapReduce** solution for identifying patterns and creating association rules for a big dataset with more than three millions transactions. This algorithm will be running in a distributed cloud computing cluster. Finally, it is expected that, analyzing your results, you should be able to help marketer answers questions such as:\n",
    "\n",
    "* What items are often bought together?\n",
    "* Given a basket, what items should be suggested?\n",
    "* How should items be placed together on the shelves?\n",
    "\n",
    "### Methodology\n",
    "\n",
    "This TP will be divided into two steps:\n",
    "1. The first step is the implementation, where you will code a MapReduce algorithm for the MBA association rules problem. For this step, a small toy dataset is provided in order to test the developed code.\n",
    "\n",
    "2. The second part is to use the algorithm created in step 1 for a dataset with more than three millions of supermarket transactions. In this step, you will use a cloud computing grid to run your experiments.\n",
    "\n",
    "\n",
    "For the implementation step, we will follow the Market Basket Analysis algorithm presented by Jongwook Woo and Yuhang Xu (2012). The Figure below presents the algorithm workflow for this TP. The blue boxes are the ones where you must implement a method to perform a map or reduce function, and the grey boxes represent their expected output. **All these operations are explained in details in the following sections.**\n",
    "\n",
    "![scale=0.5](workflow.svg \"Algorithm Workflow\")\n",
    "\n",
    "### Setting up Spark\n",
    "\n",
    "To implement this MapReduce solution you will use a tool called **Apache Spark**, a fast and general-purpose cluster computing system. In a nutshell, [Spark](http://spark.apache.org) is an open source framework designed with a *scale-out* methodology which makes it a very powerful tool for programmers or application developers to perform a huge volume of computations and data processing in distributed environments. Sparks provides high-level APIs that make it easy to build parallel apps. Moreover, Sparks can achieve high-performance computation by using a state-of-the-art (job/stage) scheduler, so you do not need to worry about how your code/data are parallelized/distributed, it does it all for you.\n",
    "\n",
    "Your first task is to get Spark up and running. \n",
    "1. First, go to http://spark.apache.org/downloads \n",
    "2. Select the newest Spark release (2.3.0) and the pre-built package type\n",
    "3. Click for download *spark-2.3.0-bin-hadoop2.7.tgz* and unzip it in any folder of your preference. \n",
    "\n",
    "4. Next, write the following two commands in your **~/.bashrc** file:\n",
    "  - export SPARK_HOME=/path/to/spark-2.3.0-bin-hadoop2.7\n",
    "  - export PYTHONPATH=\\$SPARK_HOME/python:\\$SPARK_HOME/python/lib/py4j-0.10.6-src.zip:\\$SPARK_HOME/python/lib/pyspark.zip\n",
    "\n",
    "5. Run the command *source ~/.bashrc*, reopen this jupyter notebook file and execute the next cell where the *pyspark* (Spark python API) is loaded."
   ]
  },
  {
   "cell_type": "code",
   "execution_count": 2,
   "metadata": {},
   "outputs": [],
   "source": [
    "from pyspark import SparkContext\n",
    "\n",
    "# Initialize the spark context.\n",
    "sc = SparkContext(appName='tp3team8')\n",
    "# sc = SparkContext()\n",
    "\n",
    "# Close the spark context\n",
    "# sc.stop()"
   ]
  },
  {
   "cell_type": "markdown",
   "metadata": {},
   "source": [
    "###### Word count Example \n",
    "\n",
    "It is part of this TP to study the [Spark python API](https://spark.apache.org/docs/latest/api/python/) and learn how to use it. For that, you will work with the [RDD API](https://spark.apache.org/docs/latest/api/python/pyspark.html#pyspark.RDD), a great Spark abstraction to work with the MapReduce framework.  RDD is a collection of elements partitioned across the nodes of the cluster that can operate  in parallel. In other words, RDD is how Spark keeps your data ready to operate some function (e.g., a map or reduce function) in parallel. Do not worry if this still sounds confusing, it will be clear once you starting implementing.\n",
    "\n",
    "In the next cell, the spark context object was used to read a toy dataset, *toy.csv*, that contains four supermarket transactions, one per line. The *textFile* function returns a RDD object and this is your starting point to work with the RDD API. Some useful functions that the API offers are:\n",
    "\n",
    "- **map** return a new RDD by applying a function to each element of this RDD.\n",
    "- **flatMap** return a new RDD by first applying a function to all elements of this RDD, and then flattening the results. **Should be used when each entry will yield more than one mapped element**\n",
    "- **reduce** reduces the elements of this RDD using the specified commutative and associative binary operator.\n",
    "- **reduceByKey** merge the values for each key using an associative and commutative reduce function\n",
    "- **groupByKey** group the values for each key in the RDD into a single sequence\n",
    "- **collect** return a list that contains all of the elements in this RDD. **Should not be used when working with a lot of data**\n",
    "- **sample** return a sampled subset of this RDD\n",
    "- **count** return the number of elements in this RDD.\n",
    "- **filter** return a new RDD containing only the elements that satisfy a predicate."
   ]
  },
  {
   "cell_type": "code",
   "execution_count": 3,
   "metadata": {},
   "outputs": [
    {
     "name": "stdout",
     "output_type": "stream",
     "text": [
      "Transactions:\n",
      "\t ['a,b,c', 'a,b,d', 'b,c', 'b,c']\n",
      "Words Found:\n",
      "\t [('a', 1), ('b', 1), ('c', 1), ('a', 1), ('b', 1), ('d', 1), ('b', 1), ('c', 1), ('b', 1), ('c', 1)]\n",
      "Word count:\n",
      "('d', 1)\n",
      "('b', 4)\n",
      "('a', 2)\n",
      "('c', 3)\n"
     ]
    }
   ],
   "source": [
    "def map_to_words(transaction):\n",
    "    \"\"\"\n",
    "    Map each transaction into a set of KEY-VALUE elements.\n",
    "    The KEY is the word itself and the VALUE is its number of apparitions.\n",
    "    \"\"\"\n",
    "    words = transaction.split(',')\n",
    "    for w in words:\n",
    "        yield (w,1)\n",
    "\n",
    "def reduce_words_by_key(value1, value2):\n",
    "    \"Merge the \"\n",
    "    return value1+value2\n",
    "        \n",
    "\n",
    "# Read a toy dataset\n",
    "transactions = sc.textFile('toy.csv')\n",
    "print(\"Transactions:\\n\\t\", transactions.collect())\n",
    "\n",
    "# Map function to identify words\n",
    "words = transactions.flatMap(map_to_words)\n",
    "print(\"Words Found:\\n\\t\", words.collect())\n",
    "\n",
    "# Reduce function to merge values of elements that share the same KEY\n",
    "unique_words = words.reduceByKey(reduce_words_by_key)\n",
    "\n",
    "print('Word count:')\n",
    "for uw in unique_words.collect():\n",
    "    print(uw)"
   ]
  },
  {
   "cell_type": "markdown",
   "metadata": {},
   "source": [
    "## MBA Algorithm \n",
    " The following sections explain how you should develop each step of the algorithm presented in the figure above. \n",
    "### 1. Map to Patterns (10 points)\n",
    "Given a set of transactions, each transaction is **mapped** into a set of purchase patterns found within the transaction. Formally, these patterns are subsets of products that represent a group of items bought together. \n",
    "    \n",
    "For the MapReduce framework, each pattern must be created as a *KEY-VALUE* element, where they KEY can take the form of a singleton, a pair or a trio of products that are present in the transaction. More precisely, for each transaction, all possible **unique** subsets of size one, two or three must be generated.  The VALUE associated with each KEY is the number of times that the KEY appeared in the transaction (if we assume that no product appears more than once in the transaction, this value is always equal to one). \n",
    "\n",
    "Now, implement the  **map_to_patterns** function that receives a transaction (a line of the dataset file) and returns the patterns found in the transaction. It is important to notice that, since each entry (transaction) of the map function will yield more than one KEY-VALUE element, a *flatMap* must be invoked for this step.\n",
    "\n",
    "For the toy dataset, the expected output is:\n",
    "\n",
    "<div style=\"border:1px solid black;white-space: pre;font-size: 9pt; line-height: 1.1; background-color:#f2f2f2; height: auto; width: 30em; padding-left:5px\">\n",
    "(('a',), 1)\n",
    "(('a', 'b'), 1)\n",
    "(('a', 'b', 'c'), 1)\n",
    "(('a', 'c'), 1)\n",
    "(('b',), 1)\n",
    "(('b', 'c'), 1)\n",
    "(('c',), 1)\n",
    "(('a',), 1)\n",
    "(('a', 'b'), 1)\n",
    "(('a', 'b', 'd'), 1)\n",
    "(('a', 'd'), 1)\n",
    "(('b',), 1)\n",
    "(('b', 'd'), 1)\n",
    "(('d',), 1)\n",
    "(('b',), 1)\n",
    "(('b', 'c'), 1)\n",
    "(('c',), 1)\n",
    "(('b',), 1)\n",
    "(('b', 'c'), 1)\n",
    "(('c',), 1)\n",
    "</div> \n",
    "\n",
    "\n",
    "\n"
   ]
  },
  {
   "cell_type": "markdown",
   "metadata": {},
   "source": [
    "** IT IS QUITE UNCLEAR HOW WE SHOULD DEAL WITH A TRANSACTION WHEN AN ITEM IS REPEATED IN IT**"
   ]
  },
  {
   "cell_type": "code",
   "execution_count": 4,
   "metadata": {},
   "outputs": [
    {
     "name": "stdout",
     "output_type": "stream",
     "text": [
      "Collect\n",
      "(('a',), 1)\n",
      "(('b',), 1)\n",
      "(('c',), 1)\n",
      "(('a', 'b'), 1)\n",
      "(('a', 'c'), 1)\n",
      "(('b', 'c'), 1)\n",
      "(('a', 'b', 'c'), 1)\n",
      "(('a',), 1)\n",
      "(('b',), 1)\n",
      "(('d',), 1)\n",
      "(('a', 'b'), 1)\n",
      "(('a', 'd'), 1)\n",
      "(('b', 'd'), 1)\n",
      "(('a', 'b', 'd'), 1)\n",
      "(('b',), 1)\n",
      "(('c',), 1)\n",
      "(('b', 'c'), 1)\n",
      "(('b',), 1)\n",
      "(('c',), 1)\n",
      "(('b', 'c'), 1)\n",
      "Collect\n",
      "(('a',), 1)\n",
      "(('b',), 1)\n",
      "(('a',), 1)\n",
      "(('b',), 1)\n",
      "(('b',), 1)\n",
      "(('b',), 1)\n"
     ]
    }
   ],
   "source": [
    "import itertools\n",
    "from collections import Counter\n",
    "\n",
    "def map_to_patterns(transaction):\n",
    "    \n",
    "    # we limit ourselves to singletons, pairs and trios\n",
    "    max_subset_size = 3\n",
    "    \n",
    "    items = transaction.split(',')\n",
    "    for i in range(max_subset_size):\n",
    "        tmp = list(itertools.combinations(items, i+1))\n",
    "        for key, value in Counter(tmp).items():\n",
    "            yield(key, value)\n",
    "    \n",
    "patterns = transactions.flatMap(map_to_patterns)\n",
    "print(\"Collect\")\n",
    "for pattern in patterns.collect():\n",
    "    print(pattern)\n",
    "\n",
    "print(\"Collect\")\n",
    "for pattern in patterns.filter(lambda x: x[0] in [('a',), ('b',)]).collect():\n",
    "    print(pattern)    \n",
    "    "
   ]
  },
  {
   "cell_type": "markdown",
   "metadata": {},
   "source": [
    "## 2. Reduce patterns (5 points)\n",
    "Once the transactions were processed by different CPUs, a **reduce** function must take place to combine identical KEYS (the subset of products) and compute the total number of its occurrences in the entire dataset. In other words, this reduce procedure must sum the *VALUE* of each identical KEY.\n",
    "\n",
    "Create a **reduce_patterns** function below that must sum the VALUE of each pattern.\n",
    "For the toy dataset, the expected output is:\n",
    "\n",
    "<div style=\"border:1px solid black;white-space: pre;font-size: 9pt; line-height: 1.1; background-color:#f2f2f2; height: auto; width: 30em; padding-left:5px\">\n",
    "(('a',), 2)\n",
    "(('a', 'b'), 2)\n",
    "(('a', 'b', 'c'), 1)\n",
    "(('a', 'c'), 1)\n",
    "(('b',), 4)\n",
    "(('b', 'c'), 3)\n",
    "(('c',), 3)\n",
    "(('a', 'b', 'd'), 1)\n",
    "(('a', 'd'), 1)\n",
    "(('b', 'd'), 1)\n",
    "(('d',), 1)\n",
    "</div> \n",
    "\n",
    "\n"
   ]
  },
  {
   "cell_type": "code",
   "execution_count": 5,
   "metadata": {},
   "outputs": [
    {
     "name": "stdout",
     "output_type": "stream",
     "text": [
      "(('a', 'd'), 1)\n",
      "(('b', 'd'), 1)\n",
      "(('a',), 2)\n",
      "(('b',), 4)\n",
      "(('c',), 3)\n",
      "(('a', 'b'), 2)\n",
      "(('a', 'c'), 1)\n",
      "(('b', 'c'), 3)\n",
      "(('d',), 1)\n",
      "(('a', 'b', 'c'), 1)\n",
      "(('a', 'b', 'd'), 1)\n"
     ]
    }
   ],
   "source": [
    "def reduce_patterns(value1, value2):\n",
    "    return value1 + value2\n",
    "\n",
    "frequent_patterns = patterns.reduceByKey(reduce_patterns)\n",
    "for frequent_pattern in frequent_patterns.collect():\n",
    "    print(frequent_pattern)\n"
   ]
  },
  {
   "cell_type": "markdown",
   "metadata": {},
   "source": [
    "## 3. Map to subpatterns (15 points)\n",
    "Following, another **map** function should be applied to generate subpatterns. Once again, the subpatterns are KEY-VALUE elements, where the KEY is a subset of products as well. However, creating the subpattern's KEY is a different procedure. This time, the idea is to break down the list of products of each pattern (pattern KEY), remove one product at a time, and yield the resulting list as the new subpattern KEY. For example, for a given pattern $P$ with three products, $p_1, p_2 $ and $p_3$, then three new subpatterns KEYs are going to be created: (i) remove $p_1$ and yield ($p_2, p_3$); (ii) remove $p_2$ and yield ($p_1,p_3$); and (iii) remove $p_3$ and yield ($p_1,p_2$). Additionally, the subpattern's VALUE structure will also be different. Instead of just single interger value as we had in the patterns, this time a *tuple* should be created for the subpattern VALUE. This tuple contains the product that was removed when yielding the KEY and the number of times the pattern appeared. For the example above, the values should be ($p_1,v$), ($p_2,v$) and ($p_3,v$), respectively, where $v$ is the VALUE of the pattern. The idea behind subpatterns is to create **rules** such as: when the products of KEY were bought, the item present in the VALUE was also bought $v$ times.\n",
    "\n",
    "Furthermore, each pattern should also yield a subpattern where the KEY is the same list of products of the pattern, but the VALUE is a tuple with a null product (None) and the number of times the pattern appeared. This element will be useful to keep track of how many times such pattern was found and later will be used to compute the confidence value when generating the association rules. \n",
    "\n",
    "Now, implement the  **map_to_subpatterns** function that receives a pattern and yields all found subpatterns. Once again, each entry (pattern) will generate more than one KEY-VALUE element, then a flatMap function must be called.\n",
    "\n",
    "For the toy dataset, the expected output is:\n",
    "\n",
    "<div style=\"border:1px solid black;white-space: pre;font-size: 9pt; line-height: 1.1; background-color:#f2f2f2; height: auto; width: 60em; padding-left:5px\">\n",
    "(('a',), (None, 2))\n",
    "(('a', 'b'), (None, 2))\n",
    "(('b',), ('a', 2))\n",
    "(('a',), ('b', 2))\n",
    "(('a', 'b', 'c'), (None, 1))\n",
    "(('b', 'c'), ('a', 1))\n",
    "(('a', 'c'), ('b', 1))\n",
    "(('a', 'b'), ('c', 1))\n",
    "(('a', 'c'), (None, 1))\n",
    "(('c',), ('a', 1))\n",
    "(('a',), ('c', 1))\n",
    "(('b',), (None, 4))\n",
    "(('b', 'c'), (None, 3))\n",
    "(('c',), ('b', 3))\n",
    "(('b',), ('c', 3))\n",
    "(('c',), (None, 3))\n",
    "(('a', 'b', 'd'), (None, 1))\n",
    "(('b', 'd'), ('a', 1))\n",
    "(('a', 'd'), ('b', 1))\n",
    "(('a', 'b'), ('d', 1))\n",
    "(('a', 'd'), (None, 1))\n",
    "(('d',), ('a', 1))\n",
    "(('a',), ('d', 1))\n",
    "(('b', 'd'), (None, 1))\n",
    "(('d',), ('b', 1))\n",
    "(('b',), ('d', 1))\n",
    "(('d',), (None, 1))\n",
    "</div> \n",
    "\n"
   ]
  },
  {
   "cell_type": "code",
   "execution_count": 6,
   "metadata": {},
   "outputs": [
    {
     "name": "stdout",
     "output_type": "stream",
     "text": [
      "(('d',), ('a', 1))\n",
      "(('a',), ('d', 1))\n",
      "(('a', 'd'), (None, 1))\n",
      "(('d',), ('b', 1))\n",
      "(('b',), ('d', 1))\n",
      "(('b', 'd'), (None, 1))\n",
      "(('a',), (None, 2))\n",
      "(('b',), (None, 4))\n",
      "(('c',), (None, 3))\n",
      "(('b',), ('a', 2))\n",
      "(('a',), ('b', 2))\n",
      "(('a', 'b'), (None, 2))\n",
      "(('c',), ('a', 1))\n",
      "(('a',), ('c', 1))\n",
      "(('a', 'c'), (None, 1))\n",
      "(('c',), ('b', 3))\n",
      "(('b',), ('c', 3))\n",
      "(('b', 'c'), (None, 3))\n",
      "(('d',), (None, 1))\n",
      "(('b', 'c'), ('a', 1))\n",
      "(('a', 'c'), ('b', 1))\n",
      "(('a', 'b'), ('c', 1))\n",
      "(('a', 'b', 'c'), (None, 1))\n",
      "(('b', 'd'), ('a', 1))\n",
      "(('a', 'd'), ('b', 1))\n",
      "(('a', 'b'), ('d', 1))\n",
      "(('a', 'b', 'd'), (None, 1))\n"
     ]
    }
   ],
   "source": [
    "def map_to_subpatterns(pattern):\n",
    "    \n",
    "    keys = pattern[0]\n",
    "    value = pattern[1]\n",
    "    n_items = len(keys)\n",
    "    if n_items > 1:\n",
    "        # if more than one item, return subpattern with one less element for each element\n",
    "        for i in range(n_items):\n",
    "            yield(tuple([keys[j] for j in range(n_items) if j!=i]), (keys[i], value))\n",
    "\n",
    "    # for all patterns, return whole pattern with None as associated subpattern\n",
    "    yield(keys, (None, value))\n",
    "    \n",
    "subpatterns = frequent_patterns.flatMap(map_to_subpatterns)\n",
    "\n",
    "for subpattern in subpatterns.collect():\n",
    "    print(subpattern)"
   ]
  },
  {
   "cell_type": "markdown",
   "metadata": {},
   "source": [
    "## 4. Reduce Subpattern (5 points)\n",
    "Once more, a **reduce** function will be required to group all the subpatterns by their KEY. The objective of this reducing procedure is to create a list with all the **rules** that appeared by a KEY. Hence, the expected resulting of the reduce function is also a KEY-VALUE element, where the KEY is the subpattern's KEY and the VALUE is a group containing all the VALUEs of the subpatterns that share the same KEY.\n",
    "\n",
    "For the toy dataset, the expected output is:\n",
    "\n",
    "<div style=\"border:1px solid black;white-space: pre;font-size: 9pt; line-height: 1.1; background-color:#f2f2f2; height: auto; width: 60em; padding-left:5px\">\n",
    "(('a',), [(None, 2), ('b', 2), ('c', 1), ('d', 1)])\n",
    "(('a', 'b'), [(None, 2), ('c', 1), ('d', 1)])\n",
    "(('b',), [('a', 2), (None, 4), ('c', 3), ('d', 1)])\n",
    "(('a', 'b', 'c'), [(None, 1)])\n",
    "(('b', 'c'), [('a', 1), (None, 3)])\n",
    "(('a', 'c'), [('b', 1), (None, 1)])\n",
    "(('c',), [('a', 1), ('b', 3), (None, 3)])\n",
    "(('a', 'b', 'd'), [(None, 1)])\n",
    "(('b', 'd'), [('a', 1), (None, 1)])\n",
    "(('a', 'd'), [('b', 1), (None, 1)])\n",
    "(('d',), [('a', 1), ('b', 1), (None, 1)])\n",
    "</div> \n",
    "\n",
    "\n"
   ]
  },
  {
   "cell_type": "code",
   "execution_count": 7,
   "metadata": {},
   "outputs": [
    {
     "name": "stdout",
     "output_type": "stream",
     "text": [
      "(('a', 'd'), [(None, 1), ('b', 1)])\n",
      "(('b', 'd'), [(None, 1), ('a', 1)])\n",
      "(('d',), [('a', 1), ('b', 1), (None, 1)])\n",
      "(('a',), [('d', 1), (None, 2), ('b', 2), ('c', 1)])\n",
      "(('b',), [('d', 1), (None, 4), ('a', 2), ('c', 3)])\n",
      "(('c',), [(None, 3), ('a', 1), ('b', 3)])\n",
      "(('a', 'b'), [(None, 2), ('c', 1), ('d', 1)])\n",
      "(('a', 'c'), [(None, 1), ('b', 1)])\n",
      "(('b', 'c'), [(None, 3), ('a', 1)])\n",
      "(('a', 'b', 'c'), [(None, 1)])\n",
      "(('a', 'b', 'd'), [(None, 1)])\n"
     ]
    }
   ],
   "source": [
    "# convert to weird pyspark iterable, then to list\n",
    "rules = subpatterns.groupByKey().mapValues(list)\n",
    "\n",
    "for rule in rules.collect():\n",
    "    print(rule)"
   ]
  },
  {
   "cell_type": "markdown",
   "metadata": {},
   "source": [
    "## 5. Map to Association Rules (15 points)\n",
    "Finally, the last step of the algorithm is to create the association rules to perform the market basket analysis. The goal of this map function is to calculate the **confidence** level of buying a product knowing that there is already a set of products in the basket. Thus, the KEY of the subpattern is the set of products placed in the basket and, for each product present in the list of rules, i.e., in the VALUE, the confidence can be calculated as:\n",
    "\n",
    "\\begin{align*}\n",
    "\\frac{\\text{number of times the product was bought together with KEY }}{\\text{number of times the KEY appeared}}\n",
    "\\end{align*}\n",
    "\n",
    "For the example given in the figure above, *coffee* was bought 20 times and, in 17 of them, *milk* was bought together. Then, the confidence level of buying *milk* knowing that *coffee* is in the basket is $\\frac{17}{20} = 0.85$, which means that in 85% of the times the coffee was bought, milk was purchased as well.\n",
    "\n",
    "Implement the **map_to_assoc_rules** function that calculates the confidence level for each subpattern.\n",
    "\n",
    "For the toy dataset, the expected output is:\n",
    "<div style=\"border:1px solid black;white-space: pre;font-size: 9pt; line-height: 1.1; background-color:#f2f2f2; height: auto; width: 60em; padding-left:5px\">\n",
    "(('a',), [('b', 1.0), ('c', 0.5), ('d', 0.5)])\n",
    "(('a', 'b'), [('c', 0.5), ('d', 0.5)])\n",
    "(('b',), [('a', 0.5), ('c', 0.75), ('d', 0.25)])\n",
    "(('a', 'b', 'c'), [])\n",
    "(('b', 'c'), [('a', 0.3333333333333333)])\n",
    "(('a', 'c'), [('b', 1.0)])\n",
    "(('c',), [('a', 0.3333333333333333), ('b', 1.0)])\n",
    "(('a', 'b', 'd'), [])\n",
    "(('b', 'd'), [('a', 1.0)])\n",
    "(('a', 'd'), [('b', 1.0)])\n",
    "(('d',), [('a', 1.0), ('b', 1.0)])\n",
    "</div>\n",
    "\n"
   ]
  },
  {
   "cell_type": "code",
   "execution_count": 8,
   "metadata": {},
   "outputs": [
    {
     "name": "stdout",
     "output_type": "stream",
     "text": [
      "(('d',), [('a', 1.0), ('b', 1.0)])\n",
      "(('c',), [('a', 0.3333333333333333), ('b', 1.0)])\n",
      "(('b', 'd'), [('a', 1.0)])\n",
      "(('b', 'c'), [('a', 0.3333333333333333)])\n"
     ]
    }
   ],
   "source": [
    "def map_to_assoc_rules(rule):\n",
    "    #find number of occurences\n",
    "    key = rule[0]\n",
    "    values = rule[1]\n",
    "    for elem in values:\n",
    "        if elem[0] == None:\n",
    "            total = elem[1]\n",
    "            \n",
    "    # divide every subpattern by nb of occurence        \n",
    "    result = []\n",
    "    for sp in values:\n",
    "        if sp[0] is not None:\n",
    "            result.append((sp[0], sp[1] / total))\n",
    "    return (key, result)\n",
    "\n",
    "assocRules = rules.map(map_to_assoc_rules)\n",
    "for assoc_rule in assocRules.top(4):\n",
    "    print(assoc_rule)\n"
   ]
  },
  {
   "cell_type": "markdown",
   "metadata": {},
   "source": [
    "## Instacart dataset\n",
    "\n",
    "With your MBA algorithm ready to be used, now it is time to work on a real dataset. For this second part of the TP, download the [instacart](https://www.instacart.com/datasets/grocery-shopping-2017) dataset and read its [description](https://gist.github.com/jeremystan/c3b39d947d9b88b3ccff3147dbcf6c6b) to understand how the dataset is structured. \n",
    "\n",
    "Before applying the developed algorithm on the instacart dataset you must first filter the transactions to be in the same format defined by your algorithm (one transaction per line). A very good Spark API to work with such type of structured data is the [Spark SQL](https://spark.apache.org/docs/latest/sql-programming-guide.html#sql), a module that allows you to run SQL queries and/or work with [DataFrame](https://spark.apache.org/docs/latest/api/python/pyspark.sql.html#pyspark.sql.DataFrame), a distributed collection of data grouped into named columns.\n",
    "\n",
    "**If you are not familiar with SQL, it is recommended that you follow the [tutorial from W3Schools](https://www.w3schools.com/sql/) to learn the basics.** \n",
    "\n",
    "For example, the following code cells use the Spark SQL module initialized by SparkSession to read the orders from the *order_products__train.csv* and the order information from *orders.csv* to construct a dataframe that contains a list of all products ever purchased by each user."
   ]
  },
  {
   "cell_type": "code",
   "execution_count": 9,
   "metadata": {},
   "outputs": [
    {
     "name": "stdout",
     "output_type": "stream",
     "text": [
      "order_products__train.csv\n",
      "+--------+----------+-----------------+---------+\n",
      "|order_id|product_id|add_to_cart_order|reordered|\n",
      "+--------+----------+-----------------+---------+\n",
      "|       1|     49302|                1|        1|\n",
      "|       1|     11109|                2|        1|\n",
      "|       1|     10246|                3|        0|\n",
      "|       1|     49683|                4|        0|\n",
      "|       1|     43633|                5|        1|\n",
      "+--------+----------+-----------------+---------+\n",
      "only showing top 5 rows\n",
      "\n",
      "orders.csv\n",
      "+--------+-------+--------+------------+---------+-----------------+----------------------+\n",
      "|order_id|user_id|eval_set|order_number|order_dow|order_hour_of_day|days_since_prior_order|\n",
      "+--------+-------+--------+------------+---------+-----------------+----------------------+\n",
      "| 2539329|      1|   prior|           1|        2|                8|                  null|\n",
      "| 2398795|      1|   prior|           2|        3|                7|                  15.0|\n",
      "|  473747|      1|   prior|           3|        3|               12|                  21.0|\n",
      "| 2254736|      1|   prior|           4|        4|                7|                  29.0|\n",
      "|  431534|      1|   prior|           5|        4|               15|                  28.0|\n",
      "+--------+-------+--------+------------+---------+-----------------+----------------------+\n",
      "only showing top 5 rows\n",
      "\n"
     ]
    }
   ],
   "source": [
    "# Initialize the SparkSession\n",
    "from pyspark.sql import SparkSession\n",
    "ss = SparkSession(sc)\n",
    "\n",
    "# Reading the structured data\n",
    "\n",
    "df_order_prod = ss.read.csv('instacart/order_products__train.csv', header=True, sep=',', inferSchema=True)\n",
    "print('order_products__train.csv')\n",
    "df_order_prod.show(5)\n",
    "\n",
    "df_orders = ss.read.csv('instacart/orders.csv', header=True, sep=',', inferSchema=True)\n",
    "print('orders.csv')\n",
    "df_orders.show(5)\n"
   ]
  },
  {
   "cell_type": "markdown",
   "metadata": {},
   "source": [
    "###### Using SQL"
   ]
  },
  {
   "cell_type": "code",
   "execution_count": 10,
   "metadata": {},
   "outputs": [
    {
     "name": "stdout",
     "output_type": "stream",
     "text": [
      "+-------+--------------------+\n",
      "|user_id|            products|\n",
      "+-------+--------------------+\n",
      "|      1|[196, 25133, 3892...|\n",
      "|      2|[22963, 7963, 165...|\n",
      "|      5|[15349, 19057, 16...|\n",
      "|      7|[12053, 47272, 37...|\n",
      "|      8|[15937, 5539, 109...|\n",
      "+-------+--------------------+\n",
      "only showing top 5 rows\n",
      "\n"
     ]
    }
   ],
   "source": [
    "df_order_prod.createOrReplaceTempView(\"order_prod\") # creates a Table order_prod\n",
    "df_orders.createOrReplaceTempView(\"orders\") # creates a Table orders\n",
    "\n",
    "df_ex = ss.sql('SELECT o.user_id, COLLECT_LIST(op.product_id) AS products' \n",
    "               ' FROM orders o '\n",
    "               ' INNER JOIN order_prod op ON op.order_id = o.order_id'\n",
    "               ' GROUP BY user_id ORDER BY o.user_id')\n",
    "\n",
    "df_ex.show(5)"
   ]
  },
  {
   "cell_type": "markdown",
   "metadata": {},
   "source": [
    "###### Using Dataframe"
   ]
  },
  {
   "cell_type": "code",
   "execution_count": 11,
   "metadata": {},
   "outputs": [
    {
     "name": "stdout",
     "output_type": "stream",
     "text": [
      "+-------+--------------------+\n",
      "|user_id|            products|\n",
      "+-------+--------------------+\n",
      "|      1|[196, 25133, 3892...|\n",
      "|      2|[22963, 7963, 165...|\n",
      "|      5|[15349, 19057, 16...|\n",
      "|      7|[12053, 47272, 37...|\n",
      "|      8|[15937, 5539, 109...|\n",
      "+-------+--------------------+\n",
      "only showing top 5 rows\n",
      "\n"
     ]
    }
   ],
   "source": [
    "from pyspark.sql.functions import collect_list\n",
    "\n",
    "\n",
    "df_ex = df_orders.join(df_order_prod, df_order_prod.order_id == df_orders.order_id, 'inner')\\\n",
    ".groupBy(df_orders.user_id).agg(collect_list(df_order_prod.product_id).alias('products'))\\\n",
    ".orderBy(df_orders.user_id)\n",
    "                                                                                                                           \n",
    "df_ex.show(5)"
   ]
  },
  {
   "cell_type": "markdown",
   "metadata": {},
   "source": [
    "## 6. Bonus (5 points) \n",
    "\n",
    "To practice the use of Spark SQL module, create a query, using SQL or dataframe, to answer the following questions:\n",
    "\n",
    "1. Who are the top 10 users with the biggest number of orders? (0.25) \n",
    "2. What are the top 10 most purchased products? (0.25)"
   ]
  },
  {
   "cell_type": "code",
   "execution_count": 12,
   "metadata": {},
   "outputs": [
    {
     "name": "stdout",
     "output_type": "stream",
     "text": [
      "+-------+--------+\n",
      "|user_id|n_orders|\n",
      "+-------+--------+\n",
      "| 191277|     100|\n",
      "| 186704|     100|\n",
      "|   8086|     100|\n",
      "|  16680|     100|\n",
      "| 203020|     100|\n",
      "| 170096|     100|\n",
      "|  68610|     100|\n",
      "| 106724|     100|\n",
      "|  65220|     100|\n",
      "| 167316|     100|\n",
      "+-------+--------+\n",
      "only showing top 10 rows\n",
      "\n"
     ]
    }
   ],
   "source": [
    "# top 10 users with biggest number of orders\n",
    "\n",
    "df_orders.createOrReplaceTempView(\"orders\") # creates a Table orders\n",
    "\n",
    "df_query1 = ss.sql('SELECT user_id, COUNT(*) AS n_orders FROM orders GROUP BY user_id ORDER BY n_orders desc')\n",
    "\n",
    "df_query1.show(10)"
   ]
  },
  {
   "cell_type": "code",
   "execution_count": 13,
   "metadata": {},
   "outputs": [
    {
     "name": "stdout",
     "output_type": "stream",
     "text": [
      "+----------+---------------+\n",
      "|product_id|n_times_ordered|\n",
      "+----------+---------------+\n",
      "|     24852|          18726|\n",
      "|     13176|          15480|\n",
      "|     21137|          10894|\n",
      "|     21903|           9784|\n",
      "|     47626|           8135|\n",
      "|     47766|           7409|\n",
      "|     47209|           7293|\n",
      "|     16797|           6494|\n",
      "|     26209|           6033|\n",
      "|     27966|           5546|\n",
      "+----------+---------------+\n",
      "only showing top 10 rows\n",
      "\n"
     ]
    }
   ],
   "source": [
    "# top 10 most purchased products\n",
    "\n",
    "df_order_prod.createOrReplaceTempView(\"order_prod\") # creates a Table order_prod\n",
    "\n",
    "df_query2 = ss.sql('SELECT product_id, COUNT(*) AS n_times_ordered FROM order_prod GROUP BY product_id ORDER BY n_times_ordered desc')\n",
    "\n",
    "df_query2.show(10)\n"
   ]
  },
  {
   "cell_type": "markdown",
   "metadata": {},
   "source": [
    "## 7. Run MBA for the *training* set (25 points)\n",
    "\n",
    "Using the orders from the *order_products__train.csv*, create a dataframe where each row contain just one column, the transaction, with the list of purchased products.\n",
    "\n",
    "To convert a dataframe to RDD you can use *dataframe.rdd*. For example, for the df_ex dataframe, one could desire to only work with a RDD containing the first product of each user. To do so, it is enough to run the following code: "
   ]
  },
  {
   "cell_type": "code",
   "execution_count": 14,
   "metadata": {},
   "outputs": [
    {
     "name": "stdout",
     "output_type": "stream",
     "text": [
      "196\n",
      "22963\n",
      "15349\n",
      "12053\n",
      "15937\n"
     ]
    }
   ],
   "source": [
    "def map_to_first_product(row): # row contains the variables of each row\n",
    "    return row.products[0]\n",
    "\n",
    "prods = df_ex.rdd.map(map_to_first_product)\n",
    "for p in prods.take(5):\n",
    "    print(p)"
   ]
  },
  {
   "cell_type": "markdown",
   "metadata": {},
   "source": [
    "Now, create a query to construct the transactions and run locally on your computer"
   ]
  },
  {
   "cell_type": "code",
   "execution_count": 15,
   "metadata": {},
   "outputs": [],
   "source": [
    "import time\n",
    "import cpuinfo"
   ]
  },
  {
   "cell_type": "code",
   "execution_count": 16,
   "metadata": {},
   "outputs": [],
   "source": [
    "def map_to_patterns_real(transaction):\n",
    "\n",
    "    # we limit ourselves to singletons, pairs and trios\n",
    "    max_subset_size = 3\n",
    "    \n",
    "    for i in range(max_subset_size):\n",
    "        tmp = list(itertools.combinations(transaction, i+1))\n",
    "        for key, value in Counter(tmp).items():\n",
    "            yield(key, value)\n",
    "\n",
    "def run_MBA(transactions):\n",
    "    \n",
    "    # Map to patterns\n",
    "    patterns = transactions.flatMap(map_to_patterns_real)    \n",
    "    \n",
    "    # Reduce patterns\n",
    "    frequent_patterns = patterns.reduceByKey(reduce_patterns)\n",
    "    \n",
    "    # Map to subpatterns\n",
    "    subpatterns = frequent_patterns.flatMap(map_to_subpatterns)\n",
    "\n",
    "    # Reduce subpatterns\n",
    "    rules = subpatterns.groupByKey().mapValues(list)\n",
    "\n",
    "    # Map to association rules\n",
    "    assocRules = rules.map(map_to_assoc_rules)\n",
    "    \n",
    "    return assocRules"
   ]
  },
  {
   "cell_type": "code",
   "execution_count": 17,
   "metadata": {},
   "outputs": [
    {
     "name": "stdout",
     "output_type": "stream",
     "text": [
      "to do: query the transactions\n",
      "run MBA algorithm\n",
      "Output for every item sold with one given item with association rule\n",
      "(30827,)\n",
      "[(30591, 0.005772005772005772), (28199, 0.008658008658008658), (19767, 0.004329004329004329), (2015, 0.001443001443001443), (35951, 0.015873015873015872), (33303, 0.002886002886002886), (48183, 0.001443001443001443), (21103, 0.001443001443001443), (7175, 0.001443001443001443), (15999, 0.001443001443001443), (1727, 0.001443001443001443), (19887, 0.002886002886002886), (31087, 0.001443001443001443), (7751, 0.002886002886002886), (33231, 0.001443001443001443), (45007, 0.002886002886002886), (4279, 0.001443001443001443), (9759, 0.001443001443001443), (34615, 0.001443001443001443), (49279, 0.001443001443001443), (30191, 0.001443001443001443), (9535, 0.001443001443001443), (33000, 0.008658008658008658), (16254, 0.001443001443001443), (7806, 0.001443001443001443), (39408, 0.011544011544011544), (47766, 0.012987012987012988), (43720, 0.004329004329004329), (29536, 0.001443001443001443), (12232, 0.001443001443001443), (4936, 0.001443001443001443), (47409, 0.001443001443001443), (22025, 0.001443001443001443), (25017, 0.001443001443001443), (34425, 0.002886002886002886), (1, 0.001443001443001443), (13032, 0.002886002886002886), (37250, 0.001443001443001443), (16320, 0.001443001443001443), (35184, 0.004329004329004329), (40770, 0.002886002886002886), (42450, 0.001443001443001443), (35824, 0.002886002886002886), (13962, 0.001443001443001443), (23216, 0.001443001443001443), (9387, 0.002886002886002886), (27323, 0.001443001443001443), (11827, 0.001443001443001443), (32403, 0.008658008658008658), (7923, 0.001443001443001443), (18531, 0.001443001443001443), (18811, 0.002886002886002886), (18339, 0.001443001443001443), (14979, 0.001443001443001443), (43867, 0.001443001443001443), (13083, 0.002886002886002886), (48299, 0.001443001443001443), (42939, 0.001443001443001443), (25146, 0.001443001443001443), (24852, 0.002886002886002886), (40348, 0.001443001443001443), (5994, 0.001443001443001443), (43234, 0.001443001443001443), (20618, 0.001443001443001443), (9076, 0.01443001443001443), (36322, 0.001443001443001443), (32538, 0.004329004329004329), (40660, 0.001443001443001443), (12341, 0.0707070707070707), (31573, 0.004329004329004329), (27845, 0.007215007215007215), (1565, 0.001443001443001443), (31141, 0.001443001443001443), (39461, 0.001443001443001443), (5077, 0.007215007215007215), (10077, 0.001443001443001443), (32573, 0.002886002886002886), (16965, 0.001443001443001443), (10749, 0.001443001443001443), (29429, 0.001443001443001443), (3798, 0.015873015873015872), (47788, 0.010101010101010102), (18102, 0.001443001443001443), (8590, 0.004329004329004329), (17052, 0.001443001443001443), (33614, 0.001443001443001443), (29878, 0.001443001443001443), (4100, 0.001443001443001443), (26436, 0.001443001443001443), (43975, 0.001443001443001443), (22999, 0.001443001443001443), (23103, 0.001443001443001443), (42455, 0.001443001443001443), (23375, 0.001443001443001443), (44239, 0.001443001443001443), (8767, 0.001443001443001443), (26759, 0.001443001443001443), (44319, 0.001443001443001443), (18135, 0.001443001443001443), (19831, 0.001443001443001443), (27839, 0.001443001443001443), (37710, 0.007215007215007215), (3798, 0.008658008658008658), (27966, 0.002886002886002886), (17862, 0.002886002886002886), (1806, 0.001443001443001443), (15672, 0.001443001443001443), (1000, 0.001443001443001443), (34862, 0.001443001443001443), (20776, 0.002886002886002886), (39696, 0.001443001443001443), (18358, 0.001443001443001443), (30960, 0.001443001443001443), (40310, 0.001443001443001443), (45064, 0.001443001443001443), (22782, 0.001443001443001443), (48118, 0.001443001443001443), (37070, 0.001443001443001443), (35121, 0.001443001443001443), (14161, 0.005772005772005772), (13129, 0.001443001443001443), (2113, 0.001443001443001443), (33273, 0.001443001443001443), (41065, 0.002886002886002886), (11193, 0.001443001443001443), (42585, 0.002886002886002886), (27841, 0.002886002886002886), (36601, 0.001443001443001443), (29553, 0.001443001443001443), (39001, 0.002886002886002886), (33129, 0.001443001443001443), (34601, 0.001443001443001443), (37065, 0.001443001443001443), (20448, 0.004329004329004329), (44410, 0.004329004329004329), (4938, 0.001443001443001443), (22400, 0.001443001443001443), (28688, 0.001443001443001443), (3298, 0.010101010101010102), (35898, 0.001443001443001443), (17720, 0.001443001443001443), (39928, 0.001443001443001443), (44098, 0.001443001443001443), (45938, 0.001443001443001443), (38856, 0.001443001443001443), (34898, 0.001443001443001443), (11298, 0.001443001443001443), (1202, 0.001443001443001443), (36522, 0.001443001443001443), (38456, 0.001443001443001443), (28112, 0.001443001443001443), (25802, 0.001443001443001443), (39275, 0.06782106782106782), (4731, 0.002886002886002886), (31387, 0.002886002886002886), (41971, 0.001443001443001443), (5115, 0.002886002886002886), (2651, 0.001443001443001443), (47475, 0.001443001443001443), (36139, 0.001443001443001443), (12779, 0.001443001443001443), (12099, 0.001443001443001443), (22091, 0.001443001443001443), (33043, 0.001443001443001443), (31963, 0.001443001443001443), (1940, 0.005772005772005772), (22028, 0.005772005772005772), (5450, 0.004329004329004329), (46266, 0.001443001443001443), (46516, 0.002886002886002886), (35378, 0.001443001443001443), (204, 0.001443001443001443), (39298, 0.001443001443001443), (17245, 0.001443001443001443), (25653, 0.002886002886002886), (27325, 0.001443001443001443), (42629, 0.007215007215007215), (45037, 0.001443001443001443), (23437, 0.001443001443001443), (1629, 0.001443001443001443), (27477, 0.002886002886002886), (45205, 0.002886002886002886), (37317, 0.005772005772005772), (36397, 0.001443001443001443), (43565, 0.004329004329004329), (13909, 0.001443001443001443), (34005, 0.001443001443001443), (12405, 0.001443001443001443), (16237, 0.001443001443001443), (20893, 0.001443001443001443), (7925, 0.001443001443001443), (7862, 0.021645021645021644), (21780, 0.001443001443001443), (13654, 0.002886002886002886), (24262, 0.001443001443001443), (19828, 0.008658008658008658), (43772, 0.005772005772005772), (30678, 0.001443001443001443), (13708, 0.001443001443001443), (31564, 0.002886002886002886), (8884, 0.001443001443001443), (12542, 0.001443001443001443), (40332, 0.001443001443001443), (39612, 0.001443001443001443), (10550, 0.001443001443001443), (6615, 0.007215007215007215), (35887, 0.001443001443001443), (41319, 0.001443001443001443), (20919, 0.001443001443001443), (18583, 0.002886002886002886), (49007, 0.001443001443001443), (29518, 0.001443001443001443), (25152, 0.001443001443001443), (5128, 0.001443001443001443), (1752, 0.001443001443001443), (31846, 0.002886002886002886), (27790, 0.002886002886002886), (30664, 0.001443001443001443), (13640, 0.001443001443001443), (37022, 0.001443001443001443), (7158, 0.001443001443001443), (34824, 0.001443001443001443), (25464, 0.001443001443001443), (22766, 0.001443001443001443), (46129, 0.007215007215007215), (8953, 0.010101010101010102), (38241, 0.001443001443001443), (7249, 0.002886002886002886), (23361, 0.001443001443001443), (16953, 0.011544011544011544), (48833, 0.001443001443001443), (14977, 0.001443001443001443), (32137, 0.001443001443001443), (26937, 0.001443001443001443), (2225, 0.001443001443001443), (21201, 0.001443001443001443), (43409, 0.001443001443001443), (31433, 0.001443001443001443), (42665, 0.001443001443001443), (46266, 0.005772005772005772), (27360, 0.002886002886002886), (40688, 0.001443001443001443), (48720, 0.001443001443001443), (35264, 0.001443001443001443), (5160, 0.001443001443001443), (39275, 0.03896103896103896), (46979, 0.004329004329004329), (14419, 0.002886002886002886), (30027, 0.001443001443001443), (33043, 0.001443001443001443), (25043, 0.001443001443001443), (19051, 0.001443001443001443), (42443, 0.001443001443001443), (34355, 0.001443001443001443), (8843, 0.001443001443001443), (5067, 0.001443001443001443), (17811, 0.001443001443001443), (9755, 0.002886002886002886), (5067, 0.002886002886002886), (29731, 0.001443001443001443), (39339, 0.001443001443001443), (3539, 0.001443001443001443), (33651, 0.001443001443001443), (26604, 0.010101010101010102), (46346, 0.001443001443001443), (47788, 0.01875901875901876), (26764, 0.001443001443001443), (22802, 0.004329004329004329), (48364, 0.001443001443001443), (30162, 0.002886002886002886), (35762, 0.001443001443001443), (39900, 0.001443001443001443), (5380, 0.001443001443001443), (31964, 0.001443001443001443), (14364, 0.002886002886002886), (13780, 0.001443001443001443), (27500, 0.001443001443001443), (30764, 0.001443001443001443), (41804, 0.001443001443001443), (14962, 0.001443001443001443), (11365, 0.01443001443001443), (21405, 0.002886002886002886), (2469, 0.001443001443001443), (33493, 0.004329004329004329), (25405, 0.001443001443001443), (25861, 0.001443001443001443), (43693, 0.001443001443001443), (38381, 0.001443001443001443), (6789, 0.001443001443001443), (33181, 0.001443001443001443), (1069, 0.001443001443001443), (26405, 0.001443001443001443), (34165, 0.001443001443001443), (15829, 0.001443001443001443), (37493, 0.001443001443001443), (43724, 0.001443001443001443), (29028, 0.001443001443001443), (8518, 0.002886002886002886), (24508, 0.001443001443001443), (26692, 0.001443001443001443), (19508, 0.002886002886002886), (38006, 0.001443001443001443), (43414, 0.001443001443001443), (46676, 0.001443001443001443), (14502, 0.001443001443001443), (48726, 0.001443001443001443), (11740, 0.001443001443001443), (5388, 0.001443001443001443), (32079, 0.008658008658008658), (44855, 0.001443001443001443), (43263, 0.002886002886002886), (43279, 0.004329004329004329), (17207, 0.010101010101010102), (44479, 0.001443001443001443), (39527, 0.001443001443001443), (41383, 0.001443001443001443), (5351, 0.002886002886002886), (23423, 0.001443001443001443), (39247, 0.001443001443001443), (23767, 0.001443001443001443), (49279, 0.001443001443001443), (36591, 0.001443001443001443), (43712, 0.001443001443001443), (9504, 0.001443001443001443), (49054, 0.001443001443001443), (26104, 0.004329004329004329), (35824, 0.001443001443001443), (34126, 0.001443001443001443), (17046, 0.001443001443001443), (30406, 0.004329004329004329), (14488, 0.001443001443001443), (7600, 0.001443001443001443), (10912, 0.001443001443001443), (21070, 0.001443001443001443), (11488, 0.001443001443001443), (17592, 0.001443001443001443), (8193, 0.004329004329004329), (28993, 0.005772005772005772), (11913, 0.004329004329004329), (2449, 0.002886002886002886), (12817, 0.001443001443001443), (25985, 0.001443001443001443), (9689, 0.001443001443001443), (11777, 0.001443001443001443), (30361, 0.001443001443001443), (32465, 0.001443001443001443), (28625, 0.001443001443001443), (49505, 0.001443001443001443), (130, 0.008658008658008658), (45832, 0.001443001443001443), (40338, 0.001443001443001443), (23288, 0.004329004329004329), (38664, 0.002886002886002886), (26800, 0.001443001443001443), (14144, 0.001443001443001443), (14850, 0.001443001443001443), (2962, 0.001443001443001443), (15840, 0.001443001443001443), (36338, 0.001443001443001443), (16227, 0.001443001443001443), (27323, 0.004329004329004329), (19691, 0.024531024531024532), (40403, 0.001443001443001443), (46931, 0.004329004329004329), (16539, 0.001443001443001443), (49083, 0.001443001443001443), (20947, 0.001443001443001443), (2091, 0.001443001443001443), (33731, 0.001443001443001443), (36923, 0.001443001443001443), (22667, 0.001443001443001443), (47402, 0.012987012987012988), (5068, 0.020202020202020204), (5258, 0.012987012987012988), (25762, 0.001443001443001443), (34834, 0.002886002886002886), (47652, 0.001443001443001443), (4562, 0.001443001443001443), (9644, 0.001443001443001443), (11740, 0.001443001443001443), (35458, 0.001443001443001443), (21986, 0.001443001443001443), (25890, 0.004329004329004329), (14018, 0.001443001443001443), (6852, 0.001443001443001443), (17957, 0.004329004329004329), (23165, 0.001443001443001443), (46709, 0.001443001443001443), (10685, 0.001443001443001443), (17053, 0.001443001443001443), (31725, 0.001443001443001443), (12333, 0.001443001443001443), (24253, 0.001443001443001443), (3229, 0.001443001443001443), (22469, 0.001443001443001443), (33357, 0.001443001443001443), (42701, 0.001443001443001443), (15053, 0.001443001443001443), (31469, 0.001443001443001443), (49270, 0.001443001443001443), (22766, 0.001443001443001443), (14678, 0.002886002886002886), (33494, 0.001443001443001443), (3020, 0.001443001443001443), (28204, 0.001443001443001443), (11924, 0.001443001443001443), (45260, 0.002886002886002886), (32390, 0.001443001443001443), (6478, 0.001443001443001443), (31702, 0.001443001443001443), (22788, 0.002886002886002886), (32455, 0.004329004329004329), (33783, 0.007215007215007215), (35767, 0.001443001443001443), (48071, 0.001443001443001443), (13535, 0.005772005772005772), (21847, 0.001443001443001443), (42447, 0.001443001443001443), (42447, 0.001443001443001443), (1559, 0.001443001443001443), (43967, 0.001443001443001443), (4447, 0.001443001443001443), (31831, 0.001443001443001443), (28911, 0.001443001443001443), (15664, 0.001443001443001443), (41480, 0.001443001443001443), (33454, 0.001443001443001443), (3776, 0.001443001443001443), (33480, 0.001443001443001443), (32689, 0.050505050505050504), (21137, 0.03896103896103896), (32689, 0.03607503607503607), (23753, 0.001443001443001443), (21513, 0.001443001443001443), (33857, 0.001443001443001443), (13881, 0.001443001443001443), (21313, 0.001443001443001443), (30169, 0.001443001443001443), (45681, 0.001443001443001443), (11777, 0.002886002886002886), (25281, 0.001443001443001443), (21769, 0.005772005772005772), (33249, 0.002886002886002886), (10441, 0.001443001443001443), (18977, 0.001443001443001443), (10193, 0.002886002886002886), (26593, 0.001443001443001443), (41921, 0.001443001443001443), (24489, 0.001443001443001443), (5818, 0.007215007215007215), (15200, 0.007215007215007215), (20114, 0.002886002886002886), (4920, 0.01875901875901876), (22802, 0.005772005772005772), (42936, 0.001443001443001443), (47402, 0.005772005772005772), (22218, 0.001443001443001443), (10602, 0.005772005772005772), (24114, 0.001443001443001443), (7914, 0.002886002886002886), (16594, 0.001443001443001443), (5194, 0.001443001443001443), (28626, 0.002886002886002886), (33106, 0.001443001443001443), (1194, 0.001443001443001443), (14256, 0.001443001443001443), (45064, 0.001443001443001443), (8571, 0.021645021645021644), (6155, 0.001443001443001443), (5251, 0.001443001443001443), (6195, 0.001443001443001443), (32691, 0.002886002886002886), (6003, 0.001443001443001443), (37059, 0.002886002886002886), (37611, 0.001443001443001443), (14979, 0.001443001443001443), (47043, 0.001443001443001443), (30339, 0.001443001443001443), (22395, 0.001443001443001443), (39555, 0.001443001443001443), (27531, 0.001443001443001443), (37131, 0.001443001443001443), (39891, 0.001443001443001443), (10132, 0.001443001443001443), (23594, 0.001443001443001443), (36204, 0.001443001443001443), (21938, 0.005772005772005772), (22610, 0.004329004329004329), (4620, 0.005772005772005772), (196, 0.015873015873015872), (26914, 0.002886002886002886), (46820, 0.001443001443001443), (40516, 0.002886002886002886), (27770, 0.001443001443001443), (42506, 0.002886002886002886), (10492, 0.001443001443001443), (10602, 0.002886002886002886), (46058, 0.002886002886002886), (3562, 0.001443001443001443), (44092, 0.001443001443001443), (22021, 0.002886002886002886), (15269, 0.002886002886002886), (36221, 0.001443001443001443), (4269, 0.001443001443001443), (14197, 0.001443001443001443), (19981, 0.001443001443001443), (10917, 0.001443001443001443), (27893, 0.001443001443001443), (24933, 0.001443001443001443), (21333, 0.002886002886002886), (41565, 0.001443001443001443), (32293, 0.001443001443001443), (35269, 0.001443001443001443), (47854, 0.001443001443001443), (22476, 0.001443001443001443), (26900, 0.001443001443001443), (41596, 0.001443001443001443), (17652, 0.001443001443001443), (30830, 0.001443001443001443), (48036, 0.001443001443001443), (14742, 0.001443001443001443), (41558, 0.001443001443001443), (34358, 0.001443001443001443), (29223, 0.030303030303030304), (19495, 0.001443001443001443), (40519, 0.002886002886002886), (29487, 0.011544011544011544), (3847, 0.001443001443001443), (24135, 0.004329004329004329), (23375, 0.004329004329004329), (6631, 0.001443001443001443), (18023, 0.002886002886002886), (2295, 0.001443001443001443), (35535, 0.001443001443001443), (37247, 0.001443001443001443), (311, 0.001443001443001443), (3223, 0.001443001443001443), (49511, 0.001443001443001443), (33232, 0.001443001443001443), (47366, 0.001443001443001443), (5744, 0.001443001443001443), (14862, 0.001443001443001443), (3216, 0.001443001443001443), (40974, 0.001443001443001443), (11152, 0.001443001443001443), (2328, 0.001443001443001443), (8744, 0.001443001443001443), (30486, 0.001443001443001443), (49222, 0.001443001443001443), (18078, 0.001443001443001443), (7952, 0.001443001443001443), (26032, 0.001443001443001443), (11416, 0.001443001443001443), (8153, 0.002886002886002886), (24673, 0.001443001443001443), (10529, 0.001443001443001443), (29657, 0.001443001443001443), (31553, 0.002886002886002886), (30057, 0.001443001443001443), (1689, 0.004329004329004329), (32177, 0.001443001443001443), (30745, 0.001443001443001443), (6193, 0.001443001443001443), (16993, 0.001443001443001443), (5097, 0.001443001443001443), (42345, 0.001443001443001443), (43154, 0.007215007215007215), (994, 0.001443001443001443), (15290, 0.004329004329004329), (5258, 0.012987012987012988), (26312, 0.001443001443001443), (30170, 0.001443001443001443), (5994, 0.001443001443001443), (17008, 0.004329004329004329), (35266, 0.001443001443001443), (23178, 0.001443001443001443), (39954, 0.001443001443001443), (31954, 0.001443001443001443), (14528, 0.001443001443001443), (16283, 0.020202020202020204), (38739, 0.007215007215007215), (13259, 0.007215007215007215), (27243, 0.001443001443001443), (32923, 0.002886002886002886), (25035, 0.001443001443001443), (14419, 0.004329004329004329), (39019, 0.001443001443001443), (7227, 0.001443001443001443), (43643, 0.001443001443001443), (46323, 0.001443001443001443), (48762, 0.004329004329004329), (32578, 0.002886002886002886), (48890, 0.001443001443001443), (44580, 0.002886002886002886), (39954, 0.001443001443001443), (226, 0.001443001443001443), (45260, 0.004329004329004329), (37250, 0.002886002886002886), (29930, 0.001443001443001443), (49610, 0.001443001443001443), (8260, 0.001443001443001443), (42413, 0.001443001443001443), (20869, 0.001443001443001443), (39893, 0.001443001443001443), (46149, 0.004329004329004329), (1117, 0.002886002886002886), (9573, 0.001443001443001443), (2581, 0.001443001443001443), (37613, 0.001443001443001443), (13077, 0.001443001443001443), (47357, 0.001443001443001443), (325, 0.001443001443001443), (39581, 0.001443001443001443), (26348, 0.002886002886002886), (32006, 0.001443001443001443), (25588, 0.007215007215007215), (26620, 0.001443001443001443), (13092, 0.001443001443001443), (17334, 0.001443001443001443), (40708, 0.001443001443001443), (4428, 0.001443001443001443), (39388, 0.001443001443001443), (7606, 0.001443001443001443), (12732, 0.002886002886002886), (19348, 0.002886002886002886), (4780, 0.001443001443001443), (10606, 0.001443001443001443), (9068, 0.001443001443001443), (30422, 0.001443001443001443), (20118, 0.001443001443001443), (5198, 0.001443001443001443), (35894, 0.001443001443001443), (9084, 0.001443001443001443), (27676, 0.001443001443001443), (4924, 0.001443001443001443), (500, 0.001443001443001443), (38775, 0.002886002886002886), (13575, 0.023088023088023088), (42063, 0.001443001443001443), (35383, 0.001443001443001443), (31759, 0.005772005772005772), (48527, 0.001443001443001443), (36695, 0.001443001443001443), (44359, 0.001443001443001443), (32478, 0.027417027417027416), (4920, 0.023088023088023088), (45496, 0.001443001443001443), (24622, 0.001443001443001443), (33720, 0.001443001443001443), (27086, 0.001443001443001443), (9366, 0.001443001443001443), (39190, 0.001443001443001443), (16710, 0.001443001443001443), (41984, 0.001443001443001443), (35894, 0.001443001443001443), (8590, 0.001443001443001443), (26096, 0.001443001443001443), (16696, 0.001443001443001443), (13385, 0.001443001443001443), (26209, 0.008658008658008658), (25209, 0.001443001443001443), (31985, 0.020202020202020204), (26505, 0.001443001443001443), (17569, 0.001443001443001443), (46785, 0.001443001443001443), (28785, 0.001443001443001443), (27336, 0.001443001443001443), (38768, 0.047619047619047616), (13216, 0.002886002886002886), (2376, 0.001443001443001443), (25146, 0.005772005772005772), (14640, 0.001443001443001443), (17258, 0.001443001443001443), (34234, 0.001443001443001443), (5322, 0.001443001443001443), (46058, 0.002886002886002886), (42392, 0.001443001443001443), (37096, 0.001443001443001443), (38546, 0.001443001443001443), (9387, 0.01443001443001443), (8619, 0.001443001443001443), (28907, 0.001443001443001443), (939, 0.001443001443001443), (28211, 0.002886002886002886), (23955, 0.001443001443001443), (48395, 0.001443001443001443), (5923, 0.001443001443001443), (27307, 0.001443001443001443), (3107, 0.001443001443001443), (42299, 0.001443001443001443), (15610, 0.001443001443001443), (40354, 0.001443001443001443), (37434, 0.001443001443001443), (17148, 0.001443001443001443), (40706, 0.004329004329004329), (48532, 0.002886002886002886), (13042, 0.001443001443001443), (26932, 0.002886002886002886), (10060, 0.001443001443001443), (39332, 0.001443001443001443), (40332, 0.001443001443001443), (49306, 0.001443001443001443), (27690, 0.001443001443001443), (45866, 0.001443001443001443), (46060, 0.001443001443001443), (26348, 0.001443001443001443), (41149, 0.001443001443001443), (46061, 0.004329004329004329), (41125, 0.001443001443001443), (17949, 0.001443001443001443), (40261, 0.001443001443001443), (3021, 0.001443001443001443), (31268, 0.001443001443001443), (36316, 0.001443001443001443), (13198, 0.001443001443001443), (40292, 0.001443001443001443), (31958, 0.001443001443001443), (15294, 0.001443001443001443), (9644, 0.001443001443001443), (25286, 0.001443001443001443), (34551, 0.002886002886002886), (5015, 0.001443001443001443), (2535, 0.001443001443001443), (13535, 0.004329004329004329), (25647, 0.001443001443001443), (36023, 0.001443001443001443), (28647, 0.001443001443001443), (23719, 0.001443001443001443), (15359, 0.001443001443001443), (18151, 0.001443001443001443), (24830, 0.001443001443001443), (20670, 0.002886002886002886), (9494, 0.001443001443001443), (26384, 0.001443001443001443), (42342, 0.001443001443001443), (1670, 0.001443001443001443), (49248, 0.001443001443001443), (42360, 0.001443001443001443), (22470, 0.001443001443001443), (35561, 0.027417027417027416), (5985, 0.008658008658008658), (21385, 0.011544011544011544), (12513, 0.001443001443001443), (16281, 0.004329004329004329), (4673, 0.001443001443001443), (1529, 0.001443001443001443), (8153, 0.001443001443001443), (39889, 0.001443001443001443), (20169, 0.001443001443001443), (8056, 0.001443001443001443), (23418, 0.001443001443001443), (432, 0.002886002886002886), (35336, 0.001443001443001443), (11440, 0.001443001443001443), (39024, 0.001443001443001443), (19106, 0.001443001443001443), (40144, 0.001443001443001443), (20608, 0.001443001443001443), (10227, 0.001443001443001443), (16283, 0.03463203463203463), (8803, 0.012987012987012988), (46363, 0.004329004329004329), (21195, 0.010101010101010102), (17419, 0.002886002886002886), (29851, 0.001443001443001443), (44683, 0.008658008658008658), (41355, 0.001443001443001443), (23763, 0.001443001443001443), (49083, 0.007215007215007215), (32851, 0.001443001443001443), (39922, 0.015873015873015872), (500, 0.004329004329004329), (48708, 0.001443001443001443), (21962, 0.001443001443001443), (22524, 0.001443001443001443), (22362, 0.005772005772005772), (38300, 0.002886002886002886), (46812, 0.001443001443001443), (23909, 0.007215007215007215), (14861, 0.001443001443001443), (31717, 0.002886002886002886), (15869, 0.001443001443001443), (17157, 0.001443001443001443), (4605, 0.007215007215007215), (19677, 0.001443001443001443), (48205, 0.008658008658008658), (7021, 0.001443001443001443), (8637, 0.001443001443001443), (7805, 0.001443001443001443), (41853, 0.001443001443001443), (3397, 0.001443001443001443), (42085, 0.001443001443001443), (32989, 0.001443001443001443), (35989, 0.001443001443001443), (4724, 0.031746031746031744), (21516, 0.001443001443001443), (9020, 0.001443001443001443), (24838, 0.001443001443001443), (13948, 0.001443001443001443), (31134, 0.001443001443001443), (23484, 0.001443001443001443), (19068, 0.001443001443001443), (35548, 0.001443001443001443), (41238, 0.001443001443001443), (22622, 0.001443001443001443), (43958, 0.001443001443001443), (26172, 0.001443001443001443), (21903, 0.06204906204906205), (40199, 0.010101010101010102), (23423, 0.005772005772005772), (14159, 0.002886002886002886), (46895, 0.001443001443001443), (35887, 0.001443001443001443), (30183, 0.001443001443001443), (34887, 0.001443001443001443), (20111, 0.001443001443001443), (40127, 0.001443001443001443), (16703, 0.001443001443001443), (6046, 0.002886002886002886), (37158, 0.002886002886002886), (44632, 0.002886002886002886), (11520, 0.001443001443001443), (22920, 0.002886002886002886), (2966, 0.001443001443001443), (17902, 0.004329004329004329), (11408, 0.001443001443001443), (24142, 0.001443001443001443), (13624, 0.001443001443001443), (44142, 0.002886002886002886), (12312, 0.001443001443001443), (42736, 0.001443001443001443), (35320, 0.001443001443001443), (30024, 0.001443001443001443), (21137, 0.05627705627705628), (18721, 0.001443001443001443), (40009, 0.001443001443001443), (4913, 0.001443001443001443), (25817, 0.001443001443001443), (20345, 0.007215007215007215), (4377, 0.001443001443001443), (38689, 0.002886002886002886), (47209, 0.002886002886002886), (28985, 0.001443001443001443), (6481, 0.002886002886002886), (46049, 0.001443001443001443), (13249, 0.001443001443001443), (10049, 0.001443001443001443), (32433, 0.001443001443001443), (23001, 0.001443001443001443), (44570, 0.005772005772005772), (31872, 0.001443001443001443), (42736, 0.002886002886002886), (29224, 0.001443001443001443), (17168, 0.002886002886002886), (2770, 0.001443001443001443), (44032, 0.001443001443001443), (30162, 0.002886002886002886), (37176, 0.001443001443001443), (17344, 0.001443001443001443), (2458, 0.001443001443001443), (17386, 0.001443001443001443), (46562, 0.001443001443001443), (30274, 0.001443001443001443), (49082, 0.001443001443001443), (49235, 0.011544011544011544), (36051, 0.002886002886002886), (15923, 0.001443001443001443), (5819, 0.001443001443001443), (28123, 0.001443001443001443), (7147, 0.002886002886002886), (30339, 0.001443001443001443), (12011, 0.001443001443001443), (5315, 0.001443001443001443), (9411, 0.001443001443001443), (25588, 0.005772005772005772), (31066, 0.001443001443001443), (37052, 0.001443001443001443), (43772, 0.005772005772005772), (17652, 0.002886002886002886), (30588, 0.007215007215007215), (890, 0.005772005772005772), (42282, 0.008658008658008658), (19972, 0.004329004329004329), (23484, 0.005772005772005772), (34122, 0.001443001443001443), (24964, 0.002886002886002886), (47348, 0.002886002886002886), (46676, 0.001443001443001443), (35948, 0.001443001443001443), (20378, 0.001443001443001443), (12341, 0.09956709956709957), (30949, 0.001443001443001443), (25653, 0.001443001443001443), (3957, 0.002886002886002886), (10181, 0.001443001443001443), (31317, 0.001443001443001443), (24517, 0.001443001443001443), (9189, 0.001443001443001443), (24389, 0.001443001443001443), (8013, 0.001443001443001443), (25869, 0.001443001443001443), (34789, 0.001443001443001443), (34165, 0.001443001443001443), (46677, 0.001443001443001443), (19173, 0.001443001443001443), (49381, 0.001443001443001443), (10053, 0.001443001443001443), (20285, 0.001443001443001443), (24852, 0.025974025974025976), (17902, 0.005772005772005772), (46516, 0.002886002886002886), (15772, 0.004329004329004329), (35886, 0.007215007215007215), (15004, 0.001443001443001443), (32100, 0.001443001443001443), (35628, 0.002886002886002886), (2596, 0.001443001443001443), (12980, 0.001443001443001443), (30214, 0.001443001443001443), (35132, 0.001443001443001443), (39028, 0.001443001443001443), (36956, 0.002886002886002886), (44398, 0.001443001443001443), (13702, 0.001443001443001443), (28790, 0.001443001443001443), (16900, 0.001443001443001443), (8380, 0.001443001443001443), (9839, 0.011544011544011544), (47775, 0.001443001443001443), (35951, 0.012987012987012988), (2855, 0.002886002886002886), (30591, 0.004329004329004329), (42791, 0.002886002886002886), (36463, 0.001443001443001443), (30751, 0.001443001443001443), (4807, 0.001443001443001443), (14111, 0.001443001443001443), (35263, 0.004329004329004329), (7631, 0.001443001443001443), (33791, 0.001443001443001443), (22359, 0.001443001443001443), (12087, 0.001443001443001443), (43319, 0.001443001443001443), (17807, 0.001443001443001443), (6383, 0.001443001443001443), (7896, 0.002886002886002886), (36430, 0.001443001443001443), (27910, 0.001443001443001443), (37638, 0.001443001443001443), (45488, 0.002886002886002886), (12542, 0.001443001443001443), (34358, 0.001443001443001443), (29088, 0.001443001443001443), (6174, 0.001443001443001443), (44384, 0.001443001443001443), (38288, 0.001443001443001443), (44008, 0.001443001443001443), (14312, 0.001443001443001443), (40742, 0.001443001443001443), (35184, 0.001443001443001443), (21385, 0.01443001443001443), (36321, 0.001443001443001443), (48697, 0.002886002886002886), (17313, 0.010101010101010102), (23985, 0.007215007215007215), (10473, 0.001443001443001443), (2273, 0.001443001443001443), (11009, 0.001443001443001443), (11009, 0.001443001443001443), (25513, 0.001443001443001443), (1873, 0.001443001443001443), (14001, 0.001443001443001443), (4913, 0.001443001443001443), (8536, 0.002886002886002886), (3216, 0.001443001443001443), (14104, 0.001443001443001443), (38160, 0.001443001443001443), (45840, 0.002886002886002886), (22610, 0.001443001443001443), (40746, 0.001443001443001443), (42426, 0.001443001443001443), (26088, 0.002886002886002886), (1368, 0.001443001443001443), (11520, 0.001443001443001443), (36322, 0.001443001443001443), (36010, 0.001443001443001443), (39322, 0.001443001443001443), (9176, 0.001443001443001443), (22080, 0.001443001443001443), (30338, 0.001443001443001443), (8803, 0.027417027417027416), (10611, 0.001443001443001443), (38291, 0.001443001443001443), (20955, 0.012987012987012988), (32971, 0.004329004329004329), (46803, 0.001443001443001443), (31187, 0.001443001443001443), (7131, 0.004329004329004329), (40603, 0.001443001443001443), (17691, 0.001443001443001443), (29091, 0.001443001443001443), (428, 0.001443001443001443), (7948, 0.002886002886002886), (116, 0.007215007215007215), (11266, 0.002886002886002886), (46842, 0.002886002886002886), (19348, 0.001443001443001443), (17794, 0.002886002886002886), (1194, 0.001443001443001443), (48524, 0.001443001443001443), (43637, 0.001443001443001443), (37229, 0.001443001443001443), (34229, 0.001443001443001443), (397, 0.001443001443001443), (35909, 0.002886002886002886), (13517, 0.001443001443001443), (35053, 0.001443001443001443), (9741, 0.001443001443001443), (8149, 0.001443001443001443), (19389, 0.002886002886002886), (1117, 0.001443001443001443), (4086, 0.001443001443001443), (5428, 0.001443001443001443), (27374, 0.001443001443001443), (42820, 0.001443001443001443), (10900, 0.001443001443001443), (29268, 0.001443001443001443), (30278, 0.001443001443001443), (39732, 0.001443001443001443), (34012, 0.001443001443001443), (37687, 0.04040404040404041), (2639, 0.001443001443001443), (48679, 0.002886002886002886), (23615, 0.001443001443001443), (13319, 0.001443001443001443), (35591, 0.001443001443001443), (42455, 0.002886002886002886), (37919, 0.007215007215007215), (9743, 0.001443001443001443), (34343, 0.001443001443001443), (24799, 0.001443001443001443), (18615, 0.001443001443001443), (16215, 0.001443001443001443), (26927, 0.001443001443001443), (43136, 0.007215007215007215), (13176, 0.06349206349206349), (25670, 0.001443001443001443), (5240, 0.001443001443001443), (20518, 0.004329004329004329), (35886, 0.004329004329004329), (10814, 0.001443001443001443), (14536, 0.001443001443001443), (86, 0.001443001443001443), (33464, 0.001443001443001443), (21376, 0.001443001443001443), (27360, 0.002886002886002886), (8518, 0.002886002886002886), (3265, 0.015873015873015872), (41665, 0.001443001443001443), (35561, 0.020202020202020204), (44449, 0.004329004329004329), (22849, 0.001443001443001443), (21497, 0.002886002886002886), (4353, 0.001443001443001443), (31553, 0.002886002886002886), (28473, 0.001443001443001443), (48761, 0.002886002886002886), (15649, 0.001443001443001443), (42913, 0.001443001443001443), (24049, 0.001443001443001443), (46665, 0.001443001443001443), (47337, 0.001443001443001443), (169, 0.001443001443001443), (39561, 0.001443001443001443), (25265, 0.001443001443001443), (45185, 0.001443001443001443), (44368, 0.001443001443001443), (17976, 0.002886002886002886), (25288, 0.001443001443001443), (46802, 0.004329004329004329), (13378, 0.004329004329004329), (18376, 0.001443001443001443), (14114, 0.001443001443001443), (8490, 0.001443001443001443), (13544, 0.001443001443001443), (41400, 0.001443001443001443), (38714, 0.001443001443001443), (24890, 0.001443001443001443), (8802, 0.001443001443001443), (41290, 0.001443001443001443), (31610, 0.001443001443001443), (33464, 0.001443001443001443), (35440, 0.001443001443001443), (36074, 0.001443001443001443), (49520, 0.001443001443001443), (45979, 0.001443001443001443), (20955, 0.015873015873015872), (18811, 0.001443001443001443), (25379, 0.004329004329004329), (24235, 0.001443001443001443), (21955, 0.001443001443001443), (13819, 0.001443001443001443), (46667, 0.001443001443001443), (46979, 0.004329004329004329), (31915, 0.001443001443001443), (17122, 0.025974025974025976), (3298, 0.007215007215007215), (18818, 0.001443001443001443), (44514, 0.001443001443001443), (46804, 0.004329004329004329), (12212, 0.001443001443001443), (20580, 0.001443001443001443), (13914, 0.002886002886002886), (22178, 0.001443001443001443), (17316, 0.001443001443001443), (15770, 0.001443001443001443), (20082, 0.001443001443001443), (22034, 0.001443001443001443), (26861, 0.001443001443001443), (1957, 0.002886002886002886), (31805, 0.04184704184704185), (35501, 0.001443001443001443), (29405, 0.001443001443001443), (14005, 0.001443001443001443), (9493, 0.001443001443001443), (39301, 0.001443001443001443), (16213, 0.001443001443001443), (23205, 0.001443001443001443), (8013, 0.001443001443001443), (30877, 0.001443001443001443), (30517, 0.001443001443001443), (6901, 0.002886002886002886), (14477, 0.001443001443001443), (18573, 0.001443001443001443), (20940, 0.031746031746031744), (42500, 0.001443001443001443), (47804, 0.001443001443001443), (28918, 0.001443001443001443), (45854, 0.001443001443001443), (39812, 0.001443001443001443), (20518, 0.001443001443001443), (26940, 0.001443001443001443), (48903, 0.001443001443001443), (32303, 0.021645021645021644), (44479, 0.001443001443001443), (29223, 0.011544011544011544), (43703, 0.001443001443001443), (9175, 0.001443001443001443), (18023, 0.002886002886002886), (30407, 0.002886002886002886), (34407, 0.001443001443001443), (11215, 0.001443001443001443), (21543, 0.001443001443001443), (49383, 0.001443001443001443), (32615, 0.001443001443001443), (18679, 0.001443001443001443), (18479, 0.001443001443001443), (20704, 0.001443001443001443), (22600, 0.001443001443001443), (48614, 0.001443001443001443), (10078, 0.001443001443001443), (3512, 0.002886002886002886), (22128, 0.001443001443001443), (47734, 0.001443001443001443), (46806, 0.001443001443001443), (23646, 0.001443001443001443), (49198, 0.001443001443001443), (11824, 0.001443001443001443), (5750, 0.001443001443001443), (6201, 0.001443001443001443), (6513, 0.001443001443001443), (39001, 0.002886002886002886), (25017, 0.001443001443001443), (40009, 0.001443001443001443), (1729, 0.001443001443001443), (27801, 0.001443001443001443), (16953, 0.001443001443001443), (46041, 0.005772005772005772), (23537, 0.001443001443001443), (25705, 0.001443001443001443), (25329, 0.001443001443001443), (23801, 0.001443001443001443), (13176, 0.113997113997114), (28842, 0.007215007215007215), (34466, 0.01443001443001443), (26040, 0.002886002886002886), (38368, 0.001443001443001443), (48762, 0.005772005772005772), (18850, 0.002886002886002886), (666, 0.001443001443001443), (14168, 0.002886002886002886), (14488, 0.001443001443001443), (34778, 0.001443001443001443), (38154, 0.001443001443001443), (19538, 0.001443001443001443), (11827, 0.001443001443001443), (14947, 0.001443001443001443), (23339, 0.002886002886002886), (14715, 0.004329004329004329), (32923, 0.005772005772005772), (44475, 0.002886002886002886), (37107, 0.001443001443001443), (23915, 0.001443001443001443), (12427, 0.002886002886002886), (36795, 0.001443001443001443), (40939, 0.004329004329004329), (44331, 0.001443001443001443), (40299, 0.001443001443001443), (47611, 0.001443001443001443), (46107, 0.001443001443001443), (34594, 0.001443001443001443), (2452, 0.001443001443001443), (22922, 0.001443001443001443), (34466, 0.004329004329004329), (23826, 0.001443001443001443), (44570, 0.002886002886002886), (47946, 0.001443001443001443), (4210, 0.002886002886002886), (5962, 0.002886002886002886), (42356, 0.001443001443001443), (27477, 0.001443001443001443), (15541, 0.005772005772005772), (45253, 0.001443001443001443), (12445, 0.001443001443001443), (21405, 0.001443001443001443), (23165, 0.001443001443001443), (20957, 0.001443001443001443), (21292, 0.06782106782106782), (30406, 0.008658008658008658), (45004, 0.001443001443001443), (35652, 0.005772005772005772), (48524, 0.002886002886002886), (15790, 0.001443001443001443), (43460, 0.001443001443001443), (20796, 0.001443001443001443), (39814, 0.001443001443001443), (33228, 0.001443001443001443), (16020, 0.001443001443001443), (28020, 0.001443001443001443), (32700, 0.001443001443001443), (33783, 0.01443001443001443), (2119, 0.001443001443001443), (17071, 0.001443001443001443), (3391, 0.001443001443001443), (48455, 0.001443001443001443), (38383, 0.001443001443001443), (16575, 0.001443001443001443), (28103, 0.001443001443001443), (25878, 0.001443001443001443), (12606, 0.002886002886002886), (23400, 0.001443001443001443), (13304, 0.001443001443001443), (39374, 0.002886002886002886), (28174, 0.001443001443001443), (15200, 0.008658008658008658), (9582, 0.001443001443001443), (40688, 0.001443001443001443), (2064, 0.001443001443001443), (23288, 0.001443001443001443), (33081, 0.008658008658008658), (15937, 0.001443001443001443), (27033, 0.001443001443001443), (27665, 0.001443001443001443), (41593, 0.001443001443001443), (13097, 0.008658008658008658), (40969, 0.002886002886002886), (19097, 0.001443001443001443), (3265, 0.010101010101010102), (45481, 0.001443001443001443), (15201, 0.001443001443001443), (11265, 0.001443001443001443), (6729, 0.002886002886002886), (14105, 0.001443001443001443), (1905, 0.001443001443001443), (3689, 0.001443001443001443), (28289, 0.001443001443001443), (7826, 0.001443001443001443), (40002, 0.002886002886002886), (26914, 0.004329004329004329), (3040, 0.001443001443001443), (32538, 0.002886002886002886), (26128, 0.001443001443001443), (47626, 0.008658008658008658), (19368, 0.001443001443001443), (37104, 0.001443001443001443), (47042, 0.001443001443001443), (44514, 0.001443001443001443), (45264, 0.001443001443001443), (24184, 0.002886002886002886), (5618, 0.001443001443001443), (28226, 0.001443001443001443), (3514, 0.001443001443001443), (21616, 0.001443001443001443), (20995, 0.007215007215007215), (18067, 0.004329004329004329), (21195, 0.020202020202020204), (32971, 0.002886002886002886), (7147, 0.005772005772005772), (907, 0.002886002886002886), (42483, 0.001443001443001443), (22507, 0.005772005772005772), (9203, 0.001443001443001443), (13259, 0.008658008658008658), (15203, 0.001443001443001443), (26483, 0.001443001443001443), (3243, 0.001443001443001443), (33395, 0.001443001443001443), (15891, 0.001443001443001443), (34947, 0.001443001443001443), (24555, 0.001443001443001443), (37283, 0.001443001443001443), (5451, 0.001443001443001443), (31339, 0.001443001443001443), (4683, 0.001443001443001443), (15602, 0.001443001443001443), (40490, 0.001443001443001443), (37220, 0.001443001443001443), (5194, 0.001443001443001443), (31805, 0.03607503607503607), (32541, 0.001443001443001443), (21573, 0.012987012987012988), (25133, 0.001443001443001443), (46309, 0.001443001443001443), (43205, 0.002886002886002886), (9741, 0.001443001443001443), (16933, 0.001443001443001443), (35445, 0.002886002886002886), (49141, 0.001443001443001443), (48205, 0.002886002886002886), (32429, 0.002886002886002886), (47357, 0.001443001443001443), (6765, 0.001443001443001443), (14966, 0.010101010101010102), (24166, 0.001443001443001443), (20958, 0.001443001443001443), (44142, 0.007215007215007215), (12078, 0.015873015873015872), (1940, 0.004329004329004329), (47766, 0.004329004329004329), (47388, 0.001443001443001443), (34582, 0.002886002886002886), (22948, 0.001443001443001443), (37158, 0.001443001443001443), (19343, 0.001443001443001443), (30287, 0.001443001443001443), (9231, 0.001443001443001443), (21511, 0.001443001443001443), (44943, 0.001443001443001443), (37335, 0.001443001443001443), (37919, 0.004329004329004329), (2519, 0.001443001443001443), (9623, 0.001443001443001443), (38768, 0.01875901875901876), (38928, 0.007215007215007215), (33768, 0.03463203463203463), (42768, 0.007215007215007215), (33782, 0.001443001443001443), (42174, 0.002886002886002886), (17168, 0.001443001443001443), (6758, 0.002886002886002886), (25368, 0.001443001443001443), (3752, 0.001443001443001443), (14168, 0.001443001443001443), (14001, 0.004329004329004329), (38929, 0.001443001443001443), (33833, 0.001443001443001443), (26497, 0.002886002886002886), (24361, 0.001443001443001443), (32833, 0.001443001443001443), (42282, 0.015873015873015872), (36472, 0.004329004329004329), (8048, 0.07215007215007214), (34160, 0.001443001443001443), (47144, 0.002886002886002886), (44632, 0.004329004329004329), (30720, 0.005772005772005772), (31960, 0.002886002886002886), (11266, 0.001443001443001443), (40120, 0.004329004329004329), (7690, 0.001443001443001443), (46088, 0.001443001443001443), (47912, 0.001443001443001443), (14466, 0.001443001443001443), (45488, 0.001443001443001443), (35866, 0.001443001443001443), (46906, 0.001443001443001443), (8859, 0.007215007215007215), (18059, 0.001443001443001443), (46363, 0.005772005772005772), (33147, 0.01443001443001443), (10755, 0.001443001443001443), (49235, 0.002886002886002886), (25187, 0.001443001443001443), (30731, 0.001443001443001443), (43867, 0.002886002886002886), (9547, 0.001443001443001443), (39555, 0.001443001443001443), (20114, 0.004329004329004329), (43692, 0.004329004329004329), (8372, 0.001443001443001443), (1538, 0.001443001443001443), (39250, 0.001443001443001443), (43154, 0.011544011544011544), (19468, 0.001443001443001443), (40122, 0.001443001443001443), (40492, 0.001443001443001443), (21572, 0.005772005772005772), (11580, 0.001443001443001443), (32772, 0.001443001443001443), (39394, 0.001443001443001443), (37173, 0.001443001443001443), (42589, 0.001443001443001443), (38077, 0.001443001443001443), (21573, 0.01443001443001443), (25197, 0.001443001443001443), (34005, 0.002886002886002886), (6109, 0.001443001443001443), (31501, 0.001443001443001443), (13877, 0.001443001443001443), (33709, 0.001443001443001443), (44381, 0.001443001443001443), (13822, 0.001443001443001443), (40516, 0.004329004329004329), (30588, 0.001443001443001443), (35430, 0.001443001443001443), (29334, 0.001443001443001443), (38444, 0.001443001443001443), (6046, 0.001443001443001443), (2046, 0.001443001443001443), (44044, 0.001443001443001443), (18918, 0.001443001443001443), (40742, 0.001443001443001443), (10895, 0.001443001443001443), (14439, 0.001443001443001443), (9487, 0.001443001443001443), (4639, 0.004329004329004329), (45007, 0.004329004329004329), (1631, 0.001443001443001443), (287, 0.001443001443001443), (18471, 0.001443001443001443), (33087, 0.001443001443001443), (49247, 0.001443001443001443), (27104, 0.002886002886002886), (12496, 0.002886002886002886), (16920, 0.001443001443001443), (43504, 0.001443001443001443), (15392, 0.001443001443001443), (47504, 0.001443001443001443), (34208, 0.001443001443001443), (5720, 0.001443001443001443), (18232, 0.001443001443001443), (49608, 0.001443001443001443), (7606, 0.001443001443001443), (34320, 0.001443001443001443), (48193, 0.005772005772005772), (47209, 0.004329004329004329), (2433, 0.005772005772005772), (39657, 0.002886002886002886), (14233, 0.002886002886002886), (6585, 0.001443001443001443), (32433, 0.001443001443001443), (16145, 0.001443001443001443), (30777, 0.001443001443001443), (33897, 0.001443001443001443), (47193, 0.001443001443001443), (31912, 0.004329004329004329), (17634, 0.005772005772005772), (9434, 0.010101010101010102), (20776, 0.002886002886002886), (48192, 0.001443001443001443), (28946, 0.001443001443001443), (19842, 0.001443001443001443), (43136, 0.001443001443001443), (41970, 0.001443001443001443), (36107, 0.001443001443001443), (46803, 0.001443001443001443), (39619, 0.001443001443001443), (7131, 0.002886002886002886), (38835, 0.001443001443001443), (49131, 0.002886002886002886), (19019, 0.001443001443001443), (46059, 0.001443001443001443), (26995, 0.001443001443001443), (49243, 0.001443001443001443), (4660, 0.001443001443001443), (27156, 0.008658008658008658), (3868, 0.001443001443001443), (19156, 0.001443001443001443), (7644, 0.001443001443001443), (10498, 0.001443001443001443), (33772, 0.001443001443001443), (44234, 0.001443001443001443), (23156, 0.001443001443001443), (36557, 0.002886002886002886), (10957, 0.001443001443001443), (11365, 0.017316017316017316), (36557, 0.012987012987012988), (10173, 0.002886002886002886), (40725, 0.001443001443001443), (38157, 0.001443001443001443), (20469, 0.001443001443001443), (40453, 0.001443001443001443), (41973, 0.002886002886002886), (10333, 0.001443001443001443), (19604, 0.001443001443001443), (7252, 0.002886002886002886), (28606, 0.001443001443001443), (37710, 0.004329004329004329), (31964, 0.002886002886002886), (26510, 0.001443001443001443), (40484, 0.001443001443001443), (27156, 0.002886002886002886), (43070, 0.001443001443001443), (4006, 0.001443001443001443), (40694, 0.001443001443001443), (12271, 0.004329004329004329), (32455, 0.010101010101010102), (40559, 0.001443001443001443), (41351, 0.002886002886002886), (9199, 0.001443001443001443), (22271, 0.001443001443001443), (39871, 0.001443001443001443), (1263, 0.001443001443001443), (18615, 0.004329004329004329), (29127, 0.001443001443001443), (21951, 0.001443001443001443), (39247, 0.001443001443001443), (22319, 0.001443001443001443), (22535, 0.001443001443001443), (6335, 0.001443001443001443), (47831, 0.001443001443001443), (20751, 0.001443001443001443), (10335, 0.001443001443001443), (38775, 0.001443001443001443), (21872, 0.001443001443001443), (38696, 0.001443001443001443), (44368, 0.004329004329004329), (4086, 0.001443001443001443), (18838, 0.001443001443001443), (48568, 0.001443001443001443), (16192, 0.001443001443001443), (33696, 0.001443001443001443), (5097, 0.001443001443001443), (13097, 0.007215007215007215), (46041, 0.001443001443001443), (15649, 0.002886002886002886), (21153, 0.001443001443001443), (21025, 0.001443001443001443), (26881, 0.001443001443001443), (46025, 0.001443001443001443), (41273, 0.002886002886002886), (5161, 0.001443001443001443), (41889, 0.001443001443001443), (6184, 0.04184704184704185), (29898, 0.001443001443001443), (17122, 0.011544011544011544), (26096, 0.001443001443001443), (48144, 0.001443001443001443), (30696, 0.001443001443001443), (19584, 0.001443001443001443), (31730, 0.001443001443001443), (11706, 0.001443001443001443), (20698, 0.001443001443001443), (44683, 0.025974025974025976), (13563, 0.001443001443001443), (16715, 0.001443001443001443), (39059, 0.001443001443001443), (42475, 0.007215007215007215), (14147, 0.001443001443001443), (46931, 0.001443001443001443), (31747, 0.001443001443001443), (12899, 0.004329004329004329), (18339, 0.001443001443001443), (44371, 0.001443001443001443), (41787, 0.002886002886002886), (49363, 0.001443001443001443), (25075, 0.001443001443001443), (6659, 0.001443001443001443), (4724, 0.044733044733044736), (35042, 0.004329004329004329), (14114, 0.002886002886002886), (16714, 0.001443001443001443), (6036, 0.001443001443001443), (1330, 0.001443001443001443), (27796, 0.002886002886002886), (45724, 0.001443001443001443), (22124, 0.001443001443001443), (7826, 0.001443001443001443), (24890, 0.001443001443001443), (39620, 0.001443001443001443), (26324, 0.001443001443001443), (24532, 0.001443001443001443), (17924, 0.001443001443001443), (39732, 0.001443001443001443), (10509, 0.002886002886002886), (46061, 0.002886002886002886), (28413, 0.025974025974025976), (47621, 0.001443001443001443), (10509, 0.002886002886002886), (47197, 0.001443001443001443), (23909, 0.001443001443001443), (45453, 0.001443001443001443), (17957, 0.002886002886002886), (116, 0.005772005772005772), (6758, 0.011544011544011544), (5068, 0.023088023088023088), (47404, 0.001443001443001443), (22062, 0.001443001443001443), (42828, 0.001443001443001443), (23734, 0.004329004329004329), (47532, 0.001443001443001443), (18534, 0.002886002886002886), (32596, 0.001443001443001443), (13575, 0.011544011544011544), (24535, 0.001443001443001443), (8615, 0.001443001443001443), (29327, 0.002886002886002886), (24703, 0.001443001443001443), (49327, 0.001443001443001443), (37103, 0.001443001443001443), (31423, 0.001443001443001443), (20919, 0.001443001443001443), (27247, 0.001443001443001443), (29015, 0.001443001443001443), (12078, 0.015873015873015872), (30720, 0.01875901875901876), (13424, 0.017316017316017316), (8536, 0.002886002886002886), (33206, 0.001443001443001443), (7632, 0.001443001443001443), (30560, 0.001443001443001443), (10326, 0.015873015873015872), (35246, 0.001443001443001443), (40120, 0.005772005772005772), (43744, 0.002886002886002886), (11950, 0.001443001443001443), (29662, 0.001443001443001443), (8424, 0.004329004329004329), (20936, 0.001443001443001443), (3856, 0.001443001443001443), (2120, 0.001443001443001443), (8056, 0.001443001443001443), (14161, 0.017316017316017316), (27033, 0.002886002886002886), (5985, 0.011544011544011544), (35921, 0.001443001443001443), (25265, 0.002886002886002886), (16425, 0.004329004329004329), (2433, 0.004329004329004329), (14633, 0.001443001443001443), (48745, 0.001443001443001443), (8465, 0.001443001443001443), (43857, 0.001443001443001443), (2745, 0.001443001443001443), (8057, 0.002886002886002886), (25745, 0.001443001443001443), (34449, 0.001443001443001443), (22721, 0.001443001443001443), (14992, 0.001443001443001443), (46786, 0.002886002886002886), (37752, 0.002886002886002886), (13424, 0.005772005772005772), (10258, 0.005772005772005772), (40794, 0.001443001443001443), (45608, 0.001443001443001443), (20512, 0.001443001443001443), (6258, 0.001443001443001443), (35347, 0.002886002886002886), (651, 0.011544011544011544), (35547, 0.001443001443001443), (22507, 0.007215007215007215), (28123, 0.001443001443001443), (22395, 0.001443001443001443), (17795, 0.001443001443001443), (22843, 0.001443001443001443), (20171, 0.001443001443001443), (4347, 0.001443001443001443), (11323, 0.001443001443001443), (49227, 0.001443001443001443), (12427, 0.001443001443001443), (19660, 0.012987012987012988), (35866, 0.001443001443001443), (41588, 0.001443001443001443), (15772, 0.007215007215007215), (29388, 0.001443001443001443), (588, 0.001443001443001443), (31860, 0.001443001443001443), (36796, 0.001443001443001443), (22090, 0.001443001443001443), (37202, 0.001443001443001443), (43796, 0.001443001443001443), (11461, 0.001443001443001443), (37317, 0.001443001443001443), (13525, 0.002886002886002886), (15221, 0.002886002886002886), (46901, 0.001443001443001443), (9477, 0.002886002886002886), (34861, 0.001443001443001443), (39485, 0.001443001443001443), (22269, 0.001443001443001443), (196, 0.012987012987012988), (8908, 0.002886002886002886), (38300, 0.004329004329004329), (37404, 0.001443001443001443), (4620, 0.005772005772005772), (32734, 0.001443001443001443), (33700, 0.001443001443001443), (22438, 0.001443001443001443), (6510, 0.001443001443001443), (40310, 0.001443001443001443), (31422, 0.002886002886002886), (4796, 0.001443001443001443), (44580, 0.001443001443001443), (9007, 0.001443001443001443), (21903, 0.07792207792207792), (28767, 0.001443001443001443), (3999, 0.001443001443001443), (17679, 0.001443001443001443), (40199, 0.008658008658008658), (46167, 0.001443001443001443), (27663, 0.001443001443001443), (33279, 0.001443001443001443), (43295, 0.001443001443001443), (35263, 0.002886002886002886), (8479, 0.001443001443001443), (14063, 0.001443001443001443), (6023, 0.001443001443001443), (41743, 0.001443001443001443), (12679, 0.001443001443001443), (6184, 0.05194805194805195), (41400, 0.005772005772005772), (41950, 0.001443001443001443), (9638, 0.001443001443001443), (9238, 0.001443001443001443), (39984, 0.002886002886002886), (42824, 0.001443001443001443), (25312, 0.001443001443001443), (46400, 0.001443001443001443), (11384, 0.001443001443001443), (8953, 0.004329004329004329), (9601, 0.012987012987012988), (47185, 0.001443001443001443), (5025, 0.004329004329004329), (31985, 0.015873015873015872), (48681, 0.001443001443001443), (43129, 0.001443001443001443), (40897, 0.001443001443001443), (12193, 0.001443001443001443), (4137, 0.001443001443001443), (48697, 0.001443001443001443), (19265, 0.001443001443001443), (48449, 0.001443001443001443), (21938, 0.005772005772005772), (30450, 0.008658008658008658), (19296, 0.001443001443001443), (25938, 0.004329004329004329), (13536, 0.002886002886002886), (43928, 0.001443001443001443), (20738, 0.004329004329004329), (44560, 0.001443001443001443), (20896, 0.001443001443001443), (14032, 0.001443001443001443), (27104, 0.001443001443001443), (5962, 0.001443001443001443), (22362, 0.001443001443001443), (18362, 0.001443001443001443), (13426, 0.001443001443001443), (17600, 0.001443001443001443), (42347, 0.001443001443001443), (40723, 0.001443001443001443), (403, 0.001443001443001443), (37067, 0.002886002886002886), (8859, 0.004329004329004329), (651, 0.005772005772005772), (26115, 0.001443001443001443), (20323, 0.001443001443001443), (10227, 0.001443001443001443), (14587, 0.001443001443001443), (42475, 0.002886002886002886), (1635, 0.001443001443001443), (27307, 0.001443001443001443), (36099, 0.001443001443001443), (40674, 0.001443001443001443), (20940, 0.010101010101010102), (3060, 0.001443001443001443), (4938, 0.002886002886002886), (46010, 0.001443001443001443), (11826, 0.001443001443001443), (13740, 0.001443001443001443), (35660, 0.001443001443001443), (6324, 0.001443001443001443), (35236, 0.001443001443001443), (6245, 0.001443001443001443), (43181, 0.001443001443001443), (24597, 0.001443001443001443), (37029, 0.001443001443001443), (46133, 0.001443001443001443), (48733, 0.004329004329004329), (46541, 0.001443001443001443), (3125, 0.001443001443001443), (45229, 0.001443001443001443), (5941, 0.001443001443001443), (35124, 0.001443001443001443), (23662, 0.005772005772005772), (17924, 0.004329004329004329), (22028, 0.004329004329004329), (43692, 0.007215007215007215), (16198, 0.001443001443001443), (25766, 0.001443001443001443), (10732, 0.001443001443001443), (38278, 0.001443001443001443), (34862, 0.001443001443001443), (41220, 0.001443001443001443), (40486, 0.001443001443001443), (15462, 0.002886002886002886), (17678, 0.001443001443001443), (33060, 0.001443001443001443), (17207, 0.017316017316017316), (7751, 0.001443001443001443), (6087, 0.010101010101010102), (12391, 0.001443001443001443), (38871, 0.001443001443001443), (30695, 0.002886002886002886), (34863, 0.001443001443001443), (22367, 0.001443001443001443), (35551, 0.001443001443001443), (21288, 0.025974025974025976), (264, 0.001443001443001443), (13966, 0.001443001443001443), (36784, 0.001443001443001443), (17976, 0.004329004329004329), (24838, 0.002886002886002886), (31848, 0.002886002886002886), (19760, 0.001443001443001443), (15872, 0.002886002886002886), (32446, 0.002886002886002886), (47672, 0.002886002886002886), (26094, 0.001443001443001443), (30950, 0.001443001443001443), (47248, 0.001443001443001443), (48142, 0.001443001443001443), (42265, 0.049062049062049064), (20345, 0.001443001443001443), (29689, 0.001443001443001443), (6873, 0.001443001443001443), (18465, 0.001443001443001443), (10473, 0.008658008658008658), (35473, 0.001443001443001443), (1993, 0.001443001443001443), (43209, 0.001443001443001443), (7249, 0.002886002886002886), (4889, 0.004329004329004329), (33065, 0.001443001443001443), (31825, 0.001443001443001443), (12569, 0.001443001443001443), (25753, 0.001443001443001443), (6673, 0.001443001443001443), (17824, 0.001443001443001443), (39922, 0.020202020202020204), (2568, 0.001443001443001443), (46400, 0.002886002886002886), (1752, 0.001443001443001443), (25232, 0.001443001443001443), (47040, 0.001443001443001443), (13914, 0.004329004329004329), (11408, 0.001443001443001443), (19322, 0.001443001443001443), (9208, 0.001443001443001443), (13802, 0.001443001443001443), (5824, 0.001443001443001443), (10498, 0.001443001443001443), (8571, 0.01875901875901876), (29491, 0.001443001443001443), (44371, 0.002886002886002886), (26491, 0.001443001443001443), (907, 0.002886002886002886), (18987, 0.001443001443001443), (7987, 0.001443001443001443), (1891, 0.001443001443001443), (11563, 0.001443001443001443), (36051, 0.001443001443001443), (43875, 0.001443001443001443), (11451, 0.001443001443001443), (32211, 0.002886002886002886), (48299, 0.002886002886002886), (42803, 0.002886002886002886), (14875, 0.001443001443001443), (22900, 0.001443001443001443), (17492, 0.001443001443001443), (45194, 0.002886002886002886), (9434, 0.010101010101010102), (12604, 0.001443001443001443), (13634, 0.001443001443001443), (5716, 0.001443001443001443), (48812, 0.007215007215007215), (13378, 0.005772005772005772), (45066, 0.001443001443001443), (26900, 0.004329004329004329), (34258, 0.001443001443001443), (11298, 0.001443001443001443), (18498, 0.001443001443001443), (37892, 0.001443001443001443), (5404, 0.001443001443001443), (47042, 0.002886002886002886), (12916, 0.001443001443001443), (10522, 0.001443001443001443), (29628, 0.001443001443001443), (9292, 0.001443001443001443), (28413, 0.01875901875901876), (16797, 0.10245310245310245), (29405, 0.001443001443001443), (16349, 0.001443001443001443), (653, 0.001443001443001443), (35989, 0.001443001443001443), (49605, 0.001443001443001443), (13733, 0.001443001443001443), (4605, 0.001443001443001443), (36101, 0.001443001443001443), (30389, 0.001443001443001443), (26317, 0.002886002886002886), (31725, 0.001443001443001443), (46341, 0.001443001443001443), (4557, 0.001443001443001443), (27325, 0.001443001443001443), (36413, 0.001443001443001443), (10326, 0.017316017316017316), (19660, 0.01443001443001443), (25108, 0.001443001443001443), (2732, 0.001443001443001443), (40388, 0.001443001443001443), (17742, 0.001443001443001443), (47348, 0.002886002886002886), (18838, 0.001443001443001443), (42342, 0.002886002886002886), (17412, 0.001443001443001443), (24830, 0.001443001443001443), (31860, 0.002886002886002886), (3108, 0.001443001443001443), (34407, 0.002886002886002886), (31727, 0.001443001443001443), (30407, 0.001443001443001443), (28199, 0.002886002886002886), (15567, 0.001443001443001443), (19887, 0.004329004329004329), (19327, 0.001443001443001443), (1543, 0.001443001443001443), (13255, 0.001443001443001443), (7391, 0.001443001443001443), (4607, 0.001443001443001443), (46719, 0.001443001443001443), (1559, 0.001443001443001443), (22247, 0.001443001443001443), (33503, 0.001443001443001443), (10246, 0.005772005772005772), (8048, 0.0707070707070707), (20448, 0.007215007215007215), (17616, 0.001443001443001443), (21616, 0.004329004329004329), (6686, 0.001443001443001443), (37752, 0.001443001443001443), (35336, 0.002886002886002886), (38278, 0.001443001443001443), (31222, 0.001443001443001443), (7736, 0.001443001443001443), (29526, 0.001443001443001443), (6142, 0.001443001443001443), (43510, 0.001443001443001443), (48624, 0.001443001443001443), (38440, 0.001443001443001443), (25422, 0.001443001443001443), (31912, 0.001443001443001443), (39953, 0.001443001443001443), (16281, 0.004329004329004329), (42265, 0.04184704184704185), (32833, 0.001443001443001443), (15937, 0.001443001443001443), (4641, 0.001443001443001443), (33129, 0.002886002886002886), (16617, 0.001443001443001443), (21769, 0.001443001443001443), (22825, 0.001443001443001443), (26490, 0.001443001443001443), (33378, 0.001443001443001443), (14688, 0.001443001443001443), (890, 0.008658008658008658), (128, 0.001443001443001443), (22178, 0.002886002886002886), (49354, 0.001443001443001443), (2328, 0.001443001443001443), (8424, 0.001443001443001443), (3562, 0.001443001443001443), (45578, 0.001443001443001443), (27288, 0.001443001443001443), (31651, 0.002886002886002886), (45683, 0.001443001443001443), (28371, 0.005772005772005772), (17419, 0.001443001443001443), (19691, 0.01875901875901876), (26555, 0.001443001443001443), (31651, 0.007215007215007215), (32299, 0.001443001443001443), (33819, 0.001443001443001443), (10467, 0.001443001443001443), (1219, 0.002886002886002886), (16419, 0.001443001443001443), (35923, 0.001443001443001443), (15891, 0.001443001443001443), (21292, 0.07792207792207792), (1468, 0.001443001443001443), (130, 0.002886002886002886), (19076, 0.001443001443001443), (23082, 0.001443001443001443), (8668, 0.001443001443001443), (156, 0.001443001443001443), (7252, 0.002886002886002886), (36956, 0.001443001443001443), (12980, 0.002886002886002886), (5157, 0.002886002886002886), (781, 0.001443001443001443), (43789, 0.002886002886002886), (26317, 0.002886002886002886), (9213, 0.002886002886002886), (46893, 0.001443001443001443), (35053, 0.004329004329004329), (31589, 0.001443001443001443), (38117, 0.001443001443001443), (19389, 0.001443001443001443), (24101, 0.001443001443001443), (38996, 0.001443001443001443), (12606, 0.004329004329004329), (36724, 0.001443001443001443), (9100, 0.001443001443001443), (27790, 0.004329004329004329), (27526, 0.001443001443001443), (33894, 0.001443001443001443), (7390, 0.001443001443001443), (24532, 0.002886002886002886), (20156, 0.001443001443001443), (32303, 0.015873015873015872), (15455, 0.001443001443001443), (12271, 0.002886002886002886), (26183, 0.001443001443001443), (16647, 0.001443001443001443), (19767, 0.005772005772005772), (40679, 0.001443001443001443), (6615, 0.007215007215007215), (40055, 0.001443001443001443), (49383, 0.001443001443001443), (8671, 0.001443001443001443), (22071, 0.001443001443001443), (32279, 0.001443001443001443), (15312, 0.001443001443001443), (23888, 0.004329004329004329), (32030, 0.001443001443001443), (44830, 0.001443001443001443), (38504, 0.001443001443001443), (42392, 0.002886002886002886), (27238, 0.001443001443001443), (35976, 0.001443001443001443), (33198, 0.001443001443001443), (25686, 0.001443001443001443), (47912, 0.001443001443001443), (40174, 0.001443001443001443), (46080, 0.001443001443001443), (16974, 0.002886002886002886), (14688, 0.001443001443001443), (44177, 0.001443001443001443), (15577, 0.001443001443001443), (23729, 0.001443001443001443), (30777, 0.005772005772005772), (40969, 0.001443001443001443), (2489, 0.001443001443001443), (23985, 0.002886002886002886), (23313, 0.001443001443001443), (10017, 0.001443001443001443), (40177, 0.001443001443001443), (49281, 0.001443001443001443), (6177, 0.001443001443001443), (43352, 0.08658008658008658), (17872, 0.001443001443001443), (28400, 0.001443001443001443), (18432, 0.002886002886002886), (13042, 0.002886002886002886), (8744, 0.002886002886002886), (3584, 0.001443001443001443), (47376, 0.001443001443001443), (26152, 0.001443001443001443), (17616, 0.001443001443001443), (26280, 0.001443001443001443), (34568, 0.001443001443001443), (42954, 0.001443001443001443), (27714, 0.001443001443001443), (32403, 0.010101010101010102), (7963, 0.001443001443001443), (29307, 0.001443001443001443), (40603, 0.001443001443001443), (19003, 0.002886002886002886), (27627, 0.001443001443001443), (46667, 0.001443001443001443), (39947, 0.001443001443001443), (41259, 0.001443001443001443), (28515, 0.001443001443001443), (21019, 0.001443001443001443), (14875, 0.001443001443001443), (819, 0.001443001443001443), (21795, 0.001443001443001443), (19828, 0.010101010101010102), (10628, 0.002886002886002886), (17634, 0.004329004329004329), (12732, 0.002886002886002886), (23452, 0.002886002886002886), (7316, 0.001443001443001443), (48018, 0.001443001443001443), (40338, 0.002886002886002886), (46802, 0.002886002886002886), (18850, 0.001443001443001443), (16732, 0.001443001443001443), (35652, 0.004329004329004329), (47250, 0.001443001443001443), (38444, 0.001443001443001443), (46844, 0.001443001443001443), (37354, 0.001443001443001443), (23029, 0.001443001443001443), (38917, 0.001443001443001443), (17157, 0.004329004329004329), (17237, 0.001443001443001443), (19517, 0.001443001443001443), (42629, 0.002886002886002886), (21293, 0.001443001443001443), (14893, 0.002886002886002886), (1957, 0.005772005772005772), (8053, 0.001443001443001443), (35165, 0.001443001443001443), (31541, 0.001443001443001443), (42221, 0.001443001443001443), (3990, 0.004329004329004329), (32478, 0.015873015873015872), (30356, 0.001443001443001443), (14766, 0.001443001443001443), (48004, 0.001443001443001443), (48812, 0.001443001443001443), (21324, 0.001443001443001443), (5782, 0.001443001443001443), (9358, 0.002886002886002886), (26604, 0.002886002886002886), (27966, 0.005772005772005772), (19766, 0.001443001443001443), (28590, 0.001443001443001443), (1158, 0.001443001443001443), (39844, 0.001443001443001443), (24516, 0.001443001443001443), (15820, 0.001443001443001443), (8012, 0.001443001443001443), (11759, 0.015873015873015872), (14159, 0.020202020202020204), (23719, 0.005772005772005772), (18359, 0.002886002886002886), (12055, 0.001443001443001443), (45447, 0.001443001443001443), (31343, 0.002886002886002886), (11983, 0.001443001443001443), (2855, 0.004329004329004329), (22247, 0.002886002886002886), (46799, 0.001443001443001443), (11943, 0.001443001443001443), (31559, 0.001443001443001443), (20119, 0.002886002886002886), (20247, 0.001443001443001443), (7631, 0.001443001443001443), (6631, 0.001443001443001443), (47759, 0.001443001443001443), (49511, 0.001443001443001443), (43352, 0.07936507936507936), (39534, 0.007215007215007215), (27510, 0.001443001443001443), (45646, 0.001443001443001443), (44542, 0.001443001443001443), (34582, 0.001443001443001443), (32734, 0.001443001443001443), (28745, 0.004329004329004329), (24561, 0.001443001443001443), (34969, 0.004329004329004329), (44177, 0.005772005772005772), (15097, 0.001443001443001443), (10441, 0.005772005772005772), (5769, 0.007215007215007215), (47601, 0.001443001443001443), (42625, 0.002886002886002886), (44449, 0.002886002886002886), (28745, 0.002886002886002886), (28465, 0.001443001443001443), (22281, 0.001443001443001443), (18441, 0.004329004329004329), (24265, 0.001443001443001443), (30057, 0.001443001443001443), (38928, 0.010101010101010102), (42768, 0.004329004329004329), (47504, 0.001443001443001443), (17794, 0.005772005772005772), (5120, 0.001443001443001443), (37984, 0.001443001443001443), (43584, 0.001443001443001443), (4347, 0.001443001443001443), (26115, 0.004329004329004329), (44987, 0.004329004329004329), (40939, 0.007215007215007215), (18443, 0.002886002886002886), (35507, 0.001443001443001443), (38883, 0.001443001443001443), (40467, 0.002886002886002886), (33083, 0.001443001443001443), (4451, 0.001443001443001443), (9020, 0.005772005772005772), (31394, 0.001443001443001443), (5970, 0.001443001443001443), (26620, 0.001443001443001443), (22108, 0.001443001443001443), (30450, 0.007215007215007215), (20796, 0.001443001443001443), (15004, 0.002886002886002886), (7914, 0.001443001443001443), (11004, 0.001443001443001443), (28204, 0.004329004329004329), (31404, 0.001443001443001443), (46562, 0.001443001443001443), (666, 0.001443001443001443), (17108, 0.001443001443001443), (2180, 0.001443001443001443), (20738, 0.001443001443001443), (33508, 0.001443001443001443), (8186, 0.001443001443001443), (16797, 0.10245310245310245), (11005, 0.001443001443001443), (7837, 0.002886002886002886), (22117, 0.002886002886002886), (31717, 0.005772005772005772), (28517, 0.002886002886002886), (9477, 0.001443001443001443), (41757, 0.001443001443001443), (43181, 0.001443001443001443), (29309, 0.001443001443001443), (9597, 0.001443001443001443), (46941, 0.001443001443001443), (30558, 0.001443001443001443), (6318, 0.001443001443001443), (40604, 0.001443001443001443), (46844, 0.001443001443001443), (36180, 0.001443001443001443), (16254, 0.001443001443001443), (22046, 0.001443001443001443), (6324, 0.001443001443001443), (6383, 0.002886002886002886), (48183, 0.002886002886002886), (31519, 0.001443001443001443), (31759, 0.008658008658008658), (19151, 0.001443001443001443), (7039, 0.001443001443001443), (47119, 0.002886002886002886), (34343, 0.001443001443001443), (49191, 0.001443001443001443), (34615, 0.001443001443001443), (46023, 0.001443001443001443), (33623, 0.001443001443001443), (18583, 0.001443001443001443), (32655, 0.001443001443001443), (11182, 0.001443001443001443), (33894, 0.001443001443001443), (23662, 0.005772005772005772), (13032, 0.005772005772005772), (26118, 0.001443001443001443), (15462, 0.001443001443001443), (14966, 0.001443001443001443), (37120, 0.001443001443001443), (25544, 0.004329004329004329), (49520, 0.001443001443001443), (12720, 0.002886002886002886), (28016, 0.001443001443001443), (19286, 0.001443001443001443), (17678, 0.001443001443001443), (37553, 0.001443001443001443), (39993, 0.005772005772005772), (41745, 0.001443001443001443), (30849, 0.001443001443001443), (33745, 0.001443001443001443), (17313, 0.012987012987012988), (9585, 0.002886002886002886), (3593, 0.001443001443001443), (46521, 0.002886002886002886), (17409, 0.001443001443001443), (22497, 0.001443001443001443), (889, 0.002886002886002886), (13249, 0.001443001443001443), (2841, 0.002886002886002886), (24441, 0.001443001443001443), (13640, 0.001443001443001443), (5456, 0.002886002886002886), (43568, 0.001443001443001443), (3376, 0.001443001443001443), (5346, 0.002886002886002886), (42258, 0.001443001443001443), (35042, 0.002886002886002886), (40354, 0.001443001443001443), (32578, 0.001443001443001443), (6416, 0.001443001443001443), (39408, 0.001443001443001443), (27954, 0.001443001443001443), (25170, 0.002886002886002886), (40136, 0.001443001443001443), (10442, 0.001443001443001443), (20378, 0.001443001443001443), (14587, 0.001443001443001443), (14715, 0.004329004329004329), (2099, 0.001443001443001443), (7731, 0.001443001443001443), (37011, 0.001443001443001443), (32747, 0.004329004329004329), (34643, 0.001443001443001443), (44843, 0.001443001443001443), (4043, 0.001443001443001443), (49082, 0.001443001443001443), (26172, 0.002886002886002886), (31506, 0.004329004329004329), (34282, 0.002886002886002886), (260, 0.004329004329004329), (27082, 0.001443001443001443), (28156, 0.001443001443001443), (9084, 0.002886002886002886), (31268, 0.001443001443001443), (14084, 0.001443001443001443), (47586, 0.001443001443001443), (4149, 0.005772005772005772), (27845, 0.007215007215007215), (25133, 0.002886002886002886), (41149, 0.001443001443001443), (5077, 0.002886002886002886), (429, 0.001443001443001443), (22957, 0.001443001443001443), (45149, 0.001443001443001443), (40469, 0.001443001443001443), (19421, 0.001443001443001443), (39877, 0.001443001443001443), (13517, 0.001443001443001443), (20381, 0.001443001443001443), (6022, 0.001443001443001443), (37588, 0.001443001443001443), (37086, 0.005772005772005772), (14582, 0.001443001443001443), (33198, 0.002886002886002886), (5884, 0.001443001443001443), (12788, 0.001443001443001443), (41148, 0.001443001443001443), (37687, 0.030303030303030304), (33279, 0.002886002886002886), (6087, 0.004329004329004329), (11759, 0.01443001443001443), (34551, 0.002886002886002886), (2359, 0.001443001443001443), (49463, 0.001443001443001443), (6871, 0.002886002886002886), (29487, 0.008658008658008658), (48871, 0.001443001443001443), (16975, 0.001443001443001443), (3983, 0.001443001443001443), (9127, 0.001443001443001443), (27623, 0.001443001443001443), (8584, 0.001443001443001443), (14992, 0.002886002886002886), (13398, 0.001443001443001443), (18880, 0.002886002886002886), (46584, 0.001443001443001443), (15680, 0.002886002886002886), (27080, 0.001443001443001443), (22046, 0.005772005772005772), (4638, 0.001443001443001443), (790, 0.001443001443001443), (13526, 0.001443001443001443), (48454, 0.001443001443001443), (6334, 0.001443001443001443), (47830, 0.001443001443001443), (37496, 0.001443001443001443), (9601, 0.007215007215007215), (34969, 0.002886002886002886), (19049, 0.001443001443001443), (6369, 0.004329004329004329), (5769, 0.007215007215007215), (41569, 0.001443001443001443), (33113, 0.001443001443001443), (12481, 0.001443001443001443), (26881, 0.002886002886002886), (26985, 0.001443001443001443), (329, 0.001443001443001443), (43889, 0.001443001443001443), (46969, 0.001443001443001443), (3481, 0.001443001443001443), (2481, 0.001443001443001443), (39281, 0.001443001443001443), (20305, 0.002886002886002886), (14505, 0.001443001443001443), (280, 0.004329004329004329), (33768, 0.01875901875901876), (4210, 0.002886002886002886), (33000, 0.010101010101010102), (322, 0.001443001443001443), (5210, 0.001443001443001443), (48568, 0.002886002886002886), (12496, 0.001443001443001443), (12640, 0.001443001443001443), (18008, 0.001443001443001443), (42322, 0.001443001443001443), (18818, 0.001443001443001443), (27706, 0.001443001443001443), (14536, 0.001443001443001443), (33746, 0.001443001443001443), (1522, 0.001443001443001443), (12899, 0.011544011544011544), (33147, 0.012987012987012988), (10371, 0.002886002886002886), (30611, 0.001443001443001443), (10011, 0.001443001443001443), (48171, 0.002886002886002886), (7731, 0.002886002886002886), (29987, 0.001443001443001443), (3308, 0.002886002886002886), (12044, 0.001443001443001443), (19508, 0.002886002886002886), (34748, 0.001443001443001443), (39108, 0.005772005772005772), (10258, 0.001443001443001443), (28842, 0.010101010101010102), (33548, 0.001443001443001443), (21612, 0.001443001443001443), (23650, 0.001443001443001443), (26906, 0.001443001443001443), (4658, 0.001443001443001443), (39844, 0.001443001443001443), (3732, 0.001443001443001443), (14148, 0.001443001443001443), (4149, 0.008658008658008658), (36533, 0.002886002886002886), (23709, 0.001443001443001443), (35221, 0.001443001443001443), (18285, 0.001443001443001443), (11933, 0.001443001443001443), (41637, 0.001443001443001443), (9189, 0.001443001443001443), (325, 0.001443001443001443), (48733, 0.002886002886002886), (24925, 0.001443001443001443), (22053, 0.001443001443001443), (16974, 0.002886002886002886), (23646, 0.002886002886002886), (10246, 0.015873015873015872), (46284, 0.002886002886002886), (42356, 0.001443001443001443), (14492, 0.001443001443001443), (26846, 0.001443001443001443), (17862, 0.001443001443001443), (940, 0.001443001443001443), (14364, 0.001443001443001443), (30486, 0.001443001443001443), (31846, 0.002886002886002886), (36046, 0.001443001443001443), (46886, 0.001443001443001443), (26972, 0.001443001443001443), (262, 0.001443001443001443), (24135, 0.01443001443001443), (6991, 0.001443001443001443), (663, 0.001443001443001443), (19511, 0.001443001443001443), (36847, 0.001443001443001443), (9839, 0.011544011544011544), (32079, 0.005772005772005772), (21351, 0.001443001443001443), (33303, 0.001443001443001443), (35535, 0.001443001443001443), (39871, 0.001443001443001443), (22935, 0.001443001443001443), (26247, 0.001443001443001443), (4639, 0.001443001443001443), (7862, 0.011544011544011544), (15902, 0.001443001443001443), (14086, 0.001443001443001443), (36046, 0.001443001443001443), (36144, 0.002886002886002886), (49030, 0.001443001443001443), (29982, 0.001443001443001443), (33606, 0.001443001443001443), (42510, 0.001443001443001443), (13536, 0.001443001443001443), (10478, 0.001443001443001443), (39657, 0.004329004329004329), (26209, 0.012987012987012988), (1729, 0.005772005772005772), (5025, 0.011544011544011544), (5337, 0.002886002886002886), (5129, 0.001443001443001443), (33249, 0.005772005772005772), (7969, 0.001443001443001443), (42049, 0.001443001443001443), (33081, 0.005772005772005772), (48857, 0.001443001443001443), (26321, 0.001443001443001443), (34737, 0.001443001443001443), (27761, 0.001443001443001443), (9337, 0.001443001443001443), (31506, 0.008658008658008658), (5912, 0.001443001443001443), (40706, 0.005772005772005772), (21288, 0.027417027417027416), (46010, 0.001443001443001443), (47482, 0.001443001443001443), (22882, 0.001443001443001443), (3594, 0.001443001443001443), (5586, 0.001443001443001443), (20995, 0.010101010101010102), (44107, 0.001443001443001443), (22475, 0.001443001443001443), (9339, 0.001443001443001443), (6347, 0.001443001443001443), (12347, 0.001443001443001443), (10875, 0.001443001443001443), (16539, 0.004329004329004329), (1875, 0.001443001443001443), (9963, 0.001443001443001443), (7987, 0.002886002886002886), (3819, 0.001443001443001443), (4091, 0.001443001443001443), (11859, 0.001443001443001443), (35147, 0.001443001443001443), (15171, 0.001443001443001443), (40467, 0.001443001443001443), (12339, 0.001443001443001443), (24955, 0.001443001443001443), (26899, 0.001443001443001443), (29363, 0.002886002886002886), (47626, 0.012987012987012988), (45698, 0.001443001443001443), (20788, 0.001443001443001443), (5388, 0.005772005772005772), (36690, 0.001443001443001443), (27196, 0.001443001443001443), (14218, 0.001443001443001443), (40708, 0.001443001443001443), (9554, 0.001443001443001443), (1700, 0.001443001443001443), (33098, 0.001443001443001443), (12476, 0.002886002886002886), (15290, 0.004329004329004329), (42500, 0.001443001443001443), (44172, 0.002886002886002886), (812, 0.001443001443001443), (9213, 0.007215007215007215), (19357, 0.001443001443001443), (15541, 0.010101010101010102), (35973, 0.001443001443001443), (16837, 0.001443001443001443), (26885, 0.001443001443001443), (48109, 0.001443001443001443), (32085, 0.001443001443001443), (42701, 0.001443001443001443), (15700, 0.001443001443001443), (10628, 0.001443001443001443), (39534, 0.007215007215007215), (45638, 0.001443001443001443), (10644, 0.001443001443001443), (41950, 0.002886002886002886), (1326, 0.001443001443001443), (6892, 0.001443001443001443), (21572, 0.002886002886002886), (9076, 0.012987012987012988), (34126, 0.001443001443001443), (32748, 0.001443001443001443), (19134, 0.001443001443001443), (21238, 0.001443001443001443), (27428, 0.001443001443001443), (46526, 0.001443001443001443), (10310, 0.001443001443001443), (25550, 0.001443001443001443), (49214, 0.001443001443001443), (19620, 0.001443001443001443)]\n"
     ]
    }
   ],
   "source": [
    "print('to do: query the transactions')\n",
    "\n",
    "def map_to_transactions(row):\n",
    "    return row.transactions\n",
    "\n",
    "df_order_prod.createOrReplaceTempView(\"order_prod\") # creates a Table order_prod\n",
    "df_orders.createOrReplaceTempView(\"orders\") # creates a Table orders\n",
    "\n",
    "# create query so that we have a table of only the transactions\n",
    "df_ex = ss.sql('SELECT COLLECT_LIST(op.product_id) AS transactions' \n",
    "               ' FROM orders o '\n",
    "               ' INNER JOIN order_prod op ON op.order_id = o.order_id'\n",
    "               ' GROUP BY o.order_id')\n",
    "\n",
    "transactions = df_ex.rdd.map(map_to_transactions)\n",
    "\n",
    "print('run MBA algorithm')\n",
    "\n",
    "start = time.time()\n",
    "assocRules = run_MBA(transactions)\n",
    "\n",
    "for ar in assocRules.take(1):\n",
    "    print(\"Output for every item sold with one given item with association rule\")\n",
    "    print(ar[0])\n",
    "    print(ar[1])\n",
    "end = time.time()\n"
   ]
  },
  {
   "cell_type": "markdown",
   "metadata": {},
   "source": [
    "Finally, repeat the same process but now using the Google Cloud Platform (GCP) that each team received access. All the instructions for creating a computing cluster with spark and how to submit a job will be explained in both sessions of the laboratory. In any case, the guide line to perform this task can be found [here](https://cloud.google.com/blog/big-data/2017/02/google-cloud-platform-for-data-scientists-using-jupyter-notebooks-with-apache-spark-on-google-cloud).\n",
    "\n",
    "You should report here the runtime of each experiment as well the CPU configuration that you used to run locally."
   ]
  },
  {
   "cell_type": "code",
   "execution_count": 18,
   "metadata": {},
   "outputs": [
    {
     "name": "stdout",
     "output_type": "stream",
     "text": [
      "When run locally : \n",
      "------------------\n",
      "Total time : 14min 50.969 s\n",
      "CPU INFO : Intel(R) Core(TM) i5-6500 CPU @ 3.20GHz\n"
     ]
    }
   ],
   "source": [
    "# Local\n",
    "print(\"When run locally : \\n------------------\")\n",
    "print(\"Total time : %02dmin %02.3f s\" % ((end-start)//60, (end-start)%60))\n",
    "print(\"CPU INFO : %s\" % cpuinfo.get_cpu_info()['brand'])"
   ]
  },
  {
   "cell_type": "code",
   "execution_count": 27,
   "metadata": {},
   "outputs": [
    {
     "name": "stdout",
     "output_type": "stream",
     "text": [
      "When run on GCP : \n",
      "-----------------\n"
     ]
    },
    {
     "ename": "TypeError",
     "evalue": "unsupported operand type(s) for -: 'str' and 'float'",
     "output_type": "error",
     "traceback": [
      "\u001b[0;31m---------------------------------------------------------------------------\u001b[0m",
      "\u001b[0;31mTypeError\u001b[0m                                 Traceback (most recent call last)",
      "\u001b[0;32m<ipython-input-27-dca41fa8f3fc>\u001b[0m in \u001b[0;36m<module>\u001b[0;34m()\u001b[0m\n\u001b[1;32m      1\u001b[0m \u001b[0;31m# On Google Cloud Platform\u001b[0m\u001b[0;34m\u001b[0m\u001b[0;34m\u001b[0m\u001b[0m\n\u001b[1;32m      2\u001b[0m \u001b[0mprint\u001b[0m\u001b[0;34m(\u001b[0m\u001b[0;34m\"When run on GCP : \\n-----------------\"\u001b[0m\u001b[0;34m)\u001b[0m\u001b[0;34m\u001b[0m\u001b[0m\n\u001b[0;32m----> 3\u001b[0;31m \u001b[0mprint\u001b[0m\u001b[0;34m(\u001b[0m\u001b[0;34m\"Total time : %.3f\"\u001b[0m \u001b[0;34m%\u001b[0m \u001b[0mend\u001b[0m\u001b[0;34m-\u001b[0m\u001b[0mstart\u001b[0m\u001b[0;34m)\u001b[0m\u001b[0;34m\u001b[0m\u001b[0m\n\u001b[0m\u001b[1;32m      4\u001b[0m \u001b[0mprint\u001b[0m\u001b[0;34m(\u001b[0m\u001b[0;34m\"CPU INFO : %s\"\u001b[0m \u001b[0;34m%\u001b[0m \u001b[0mcpuinfo\u001b[0m\u001b[0;34m.\u001b[0m\u001b[0mget_cpu_info\u001b[0m\u001b[0;34m(\u001b[0m\u001b[0;34m)\u001b[0m\u001b[0;34m[\u001b[0m\u001b[0;34m'brand'\u001b[0m\u001b[0;34m]\u001b[0m\u001b[0;34m)\u001b[0m\u001b[0;34m\u001b[0m\u001b[0m\n",
      "\u001b[0;31mTypeError\u001b[0m: unsupported operand type(s) for -: 'str' and 'float'"
     ]
    }
   ],
   "source": [
    "# On Google Cloud Platform\n",
    "print(\"When run on GCP : \\n-----------------\")\n",
    "print(\"Total time : %02dmin %02.3f s\" % ((end-start)//60, (end-start)%60))\n"
   ]
  },
  {
   "cell_type": "markdown",
   "metadata": {},
   "source": [
    "## 8. Run MBA for your custom dataset (25 points)\n",
    "\n",
    "Each team will receive a custom file on its storage bucket that contains a set of *order_id*. For this last task, you must query both the *order_products__prior* and *order_products__train* files to construct your own set of transactions, i.e., search only for the order_ids you have received. You should report the number of transactions and unique products that you will work with.\n",
    "\n",
    "Moreover, build a list of unique products appearing on the first 10 orders of your custom file and report the association rules when you have the product alone in the basket. In other words, after running your MBA algorithm, print the association rules where the KEY product (alone) is present in this file. **You should print the product's name, not its ID.**  \n",
    "       \n",
    "Once again, you should run this experiment using the GCP and report the execution time."
   ]
  },
  {
   "cell_type": "code",
   "execution_count": 21,
   "metadata": {},
   "outputs": [
    {
     "name": "stdout",
     "output_type": "stream",
     "text": [
      "to do: query the transactions\n"
     ]
    }
   ],
   "source": [
    "print('to do: query the transactions')\n",
    "\n",
    "def map_to_transactions(row):\n",
    "    return row.transactions\n",
    "\n",
    "custom_file_name = \"orders_team8.csv\"\n",
    "\n",
    "# Reading the structured data\n",
    "\n",
    "df_order_prod_train = ss.read.csv('instacart/order_products__train.csv', header=True, sep=',', inferSchema=True)\n",
    "df_order_prod_prior = ss.read.csv('instacart/order_products__prior.csv', header=True, sep=',', inferSchema=True)\n",
    "df_custom = ss.read.csv('instacart/' + custom_file_name, header=True, sep=',', inferSchema=True)\n",
    "df_orders = ss.read.csv('instacart/orders.csv', header=True, sep=',', inferSchema=True)\n",
    "df_products = ss.read.csv('instacart/products.csv', header=True, sep=',', inferSchema=True)\n",
    "\n",
    "df_order_prod_train.createOrReplaceTempView(\"order_prod_train\")\n",
    "df_order_prod_prior.createOrReplaceTempView(\"order_prod_prior\")\n",
    "df_custom.createOrReplaceTempView(\"custom\")\n",
    "df_orders.createOrReplaceTempView(\"orders\") # creates a Table orders\n",
    "df_orders.createOrReplaceTempView(\"products\")\n",
    "\n",
    "# combine order_prod_train and order_prod_prior\n",
    "df_order_prod_combined = ss.sql('SELECT opt.order_id, opt.product_id FROM order_prod_train opt'\n",
    "                                ' UNION'\n",
    "                                ' SELECT opp.order_id, opp.product_id FROM order_prod_prior opp')\n",
    "df_order_prod_combined.createOrReplaceTempView(\"order_prod_combined\")\n",
    "\n",
    "# select only orders where order_id is in our custom file\n",
    "df_custom_transactions = ss.sql('SELECT opc.order_id, opc.product_id FROM order_prod_combined opc'\n",
    "                                ' INNER JOIN custom cu ON opc.order_id = cu.order_id'\n",
    "                                ' ORDER BY cu.order_id')\n",
    "df_custom_transactions.createOrReplaceTempView(\"custom_transactions\")\n",
    "\n",
    "# Count number of transactions\n",
    "df_n_transactions = ss.sql('SELECT COUNT (DISTINCT order_id) AS n_transactions'\n",
    "                           ' FROM custom_transactions')\n",
    "# df_n_transactions.show()\n",
    "\n",
    "# Count number of unique products\n",
    "df_n_unique_products = ss.sql('SELECT COUNT (DISTINCT product_id) as number_of_unique_products'\n",
    "                              ' FROM custom_transactions')\n",
    "# df_n_unique_products.show()\n",
    "\n",
    "# build custom transactions to feed to MBA algorithm\n",
    "df_custom_transactions = ss.sql('SELECT order_id, COLLECT_LIST(product_id) AS transactions'\n",
    "                                ' FROM custom_transactions'\n",
    "                                ' GROUP BY order_id')\n",
    "df_custom_transactions.createOrReplaceTempView(\"custom_transactions\")\n",
    "\n",
    "transactions = df_custom_transactions.rdd.map(map_to_transactions)"
   ]
  },
  {
   "cell_type": "code",
   "execution_count": 22,
   "metadata": {},
   "outputs": [],
   "source": [
    "# building unique products list\n",
    "df_kept_products = ss.sql('SELECT ct.transactions'\n",
    "                          ' FROM custom_transactions ct'\n",
    "                          ' INNER JOIN custom cu ON ct.order_id = cu.order_id'\n",
    "                          ' LIMIT 10')\n",
    "df_kept_products.createOrReplaceTempView('kept_products')\n",
    "\n",
    "tmp = df_kept_products.collect()\n",
    "kept_keys = []\n",
    "for i in range(len(tmp)):\n",
    "    for elem in tmp[i].transactions:\n",
    "        if elem not in kept_keys:\n",
    "            kept_keys.append((elem,))\n"
   ]
  },
  {
   "cell_type": "code",
   "execution_count": 23,
   "metadata": {},
   "outputs": [],
   "source": [
    "# Creating id2name dictionary\n",
    "\n",
    "id2name_file = 'instacart/products.csv'\n",
    "\n",
    "with open(id2name_file) as f:\n",
    "    \n",
    "    # skip header\n",
    "    f.readline()\n",
    "    id2name = {}\n",
    "    for line in f:\n",
    "        line = line.strip().split(',')\n",
    "        id2name[line[0]] = line[1]\n",
    "        "
   ]
  },
  {
   "cell_type": "code",
   "execution_count": 24,
   "metadata": {},
   "outputs": [
    {
     "name": "stdout",
     "output_type": "stream",
     "text": [
      "run MBA algorithm\n"
     ]
    },
    {
     "ename": "KeyboardInterrupt",
     "evalue": "",
     "output_type": "error",
     "traceback": [
      "\u001b[0;31m---------------------------------------------------------------------------\u001b[0m",
      "\u001b[0;31mKeyboardInterrupt\u001b[0m                         Traceback (most recent call last)",
      "\u001b[0;32m<ipython-input-24-a73ec0fd7357>\u001b[0m in \u001b[0;36m<module>\u001b[0;34m()\u001b[0m\n\u001b[1;32m      5\u001b[0m \u001b[0;34m\u001b[0m\u001b[0m\n\u001b[1;32m      6\u001b[0m \u001b[0;31m# use filter\u001b[0m\u001b[0;34m\u001b[0m\u001b[0;34m\u001b[0m\u001b[0m\n\u001b[0;32m----> 7\u001b[0;31m \u001b[0;32mfor\u001b[0m \u001b[0mar\u001b[0m \u001b[0;32min\u001b[0m \u001b[0massocRules\u001b[0m\u001b[0;34m.\u001b[0m\u001b[0mfilter\u001b[0m\u001b[0;34m(\u001b[0m\u001b[0;32mlambda\u001b[0m \u001b[0mx\u001b[0m\u001b[0;34m:\u001b[0m \u001b[0mx\u001b[0m\u001b[0;34m[\u001b[0m\u001b[0;36m0\u001b[0m\u001b[0;34m]\u001b[0m \u001b[0;32min\u001b[0m \u001b[0mkept_keys\u001b[0m\u001b[0;34m)\u001b[0m\u001b[0;34m.\u001b[0m\u001b[0mcollect\u001b[0m\u001b[0;34m(\u001b[0m\u001b[0;34m)\u001b[0m\u001b[0;34m:\u001b[0m\u001b[0;34m\u001b[0m\u001b[0m\n\u001b[0m\u001b[1;32m      8\u001b[0m \u001b[0;31m# for ar in assocRules.take(1):\u001b[0m\u001b[0;34m\u001b[0m\u001b[0;34m\u001b[0m\u001b[0m\n\u001b[1;32m      9\u001b[0m \u001b[0;34m\u001b[0m\u001b[0m\n",
      "\u001b[0;32m~/spark-2.3.0-bin-hadoop2.7/python/pyspark/rdd.py\u001b[0m in \u001b[0;36mcollect\u001b[0;34m(self)\u001b[0m\n\u001b[1;32m    822\u001b[0m         \"\"\"\n\u001b[1;32m    823\u001b[0m         \u001b[0;32mwith\u001b[0m \u001b[0mSCCallSiteSync\u001b[0m\u001b[0;34m(\u001b[0m\u001b[0mself\u001b[0m\u001b[0;34m.\u001b[0m\u001b[0mcontext\u001b[0m\u001b[0;34m)\u001b[0m \u001b[0;32mas\u001b[0m \u001b[0mcss\u001b[0m\u001b[0;34m:\u001b[0m\u001b[0;34m\u001b[0m\u001b[0m\n\u001b[0;32m--> 824\u001b[0;31m             \u001b[0mport\u001b[0m \u001b[0;34m=\u001b[0m \u001b[0mself\u001b[0m\u001b[0;34m.\u001b[0m\u001b[0mctx\u001b[0m\u001b[0;34m.\u001b[0m\u001b[0m_jvm\u001b[0m\u001b[0;34m.\u001b[0m\u001b[0mPythonRDD\u001b[0m\u001b[0;34m.\u001b[0m\u001b[0mcollectAndServe\u001b[0m\u001b[0;34m(\u001b[0m\u001b[0mself\u001b[0m\u001b[0;34m.\u001b[0m\u001b[0m_jrdd\u001b[0m\u001b[0;34m.\u001b[0m\u001b[0mrdd\u001b[0m\u001b[0;34m(\u001b[0m\u001b[0;34m)\u001b[0m\u001b[0;34m)\u001b[0m\u001b[0;34m\u001b[0m\u001b[0m\n\u001b[0m\u001b[1;32m    825\u001b[0m         \u001b[0;32mreturn\u001b[0m \u001b[0mlist\u001b[0m\u001b[0;34m(\u001b[0m\u001b[0m_load_from_socket\u001b[0m\u001b[0;34m(\u001b[0m\u001b[0mport\u001b[0m\u001b[0;34m,\u001b[0m \u001b[0mself\u001b[0m\u001b[0;34m.\u001b[0m\u001b[0m_jrdd_deserializer\u001b[0m\u001b[0;34m)\u001b[0m\u001b[0;34m)\u001b[0m\u001b[0;34m\u001b[0m\u001b[0m\n\u001b[1;32m    826\u001b[0m \u001b[0;34m\u001b[0m\u001b[0m\n",
      "\u001b[0;32m~/spark-2.3.0-bin-hadoop2.7/python/lib/py4j-0.10.6-src.zip/py4j/java_gateway.py\u001b[0m in \u001b[0;36m__call__\u001b[0;34m(self, *args)\u001b[0m\n\u001b[1;32m   1156\u001b[0m             \u001b[0mproto\u001b[0m\u001b[0;34m.\u001b[0m\u001b[0mEND_COMMAND_PART\u001b[0m\u001b[0;34m\u001b[0m\u001b[0m\n\u001b[1;32m   1157\u001b[0m \u001b[0;34m\u001b[0m\u001b[0m\n\u001b[0;32m-> 1158\u001b[0;31m         \u001b[0manswer\u001b[0m \u001b[0;34m=\u001b[0m \u001b[0mself\u001b[0m\u001b[0;34m.\u001b[0m\u001b[0mgateway_client\u001b[0m\u001b[0;34m.\u001b[0m\u001b[0msend_command\u001b[0m\u001b[0;34m(\u001b[0m\u001b[0mcommand\u001b[0m\u001b[0;34m)\u001b[0m\u001b[0;34m\u001b[0m\u001b[0m\n\u001b[0m\u001b[1;32m   1159\u001b[0m         return_value = get_return_value(\n\u001b[1;32m   1160\u001b[0m             answer, self.gateway_client, self.target_id, self.name)\n",
      "\u001b[0;32m~/spark-2.3.0-bin-hadoop2.7/python/lib/py4j-0.10.6-src.zip/py4j/java_gateway.py\u001b[0m in \u001b[0;36msend_command\u001b[0;34m(self, command, retry, binary)\u001b[0m\n\u001b[1;32m    906\u001b[0m         \u001b[0mconnection\u001b[0m \u001b[0;34m=\u001b[0m \u001b[0mself\u001b[0m\u001b[0;34m.\u001b[0m\u001b[0m_get_connection\u001b[0m\u001b[0;34m(\u001b[0m\u001b[0;34m)\u001b[0m\u001b[0;34m\u001b[0m\u001b[0m\n\u001b[1;32m    907\u001b[0m         \u001b[0;32mtry\u001b[0m\u001b[0;34m:\u001b[0m\u001b[0;34m\u001b[0m\u001b[0m\n\u001b[0;32m--> 908\u001b[0;31m             \u001b[0mresponse\u001b[0m \u001b[0;34m=\u001b[0m \u001b[0mconnection\u001b[0m\u001b[0;34m.\u001b[0m\u001b[0msend_command\u001b[0m\u001b[0;34m(\u001b[0m\u001b[0mcommand\u001b[0m\u001b[0;34m)\u001b[0m\u001b[0;34m\u001b[0m\u001b[0m\n\u001b[0m\u001b[1;32m    909\u001b[0m             \u001b[0;32mif\u001b[0m \u001b[0mbinary\u001b[0m\u001b[0;34m:\u001b[0m\u001b[0;34m\u001b[0m\u001b[0m\n\u001b[1;32m    910\u001b[0m                 \u001b[0;32mreturn\u001b[0m \u001b[0mresponse\u001b[0m\u001b[0;34m,\u001b[0m \u001b[0mself\u001b[0m\u001b[0;34m.\u001b[0m\u001b[0m_create_connection_guard\u001b[0m\u001b[0;34m(\u001b[0m\u001b[0mconnection\u001b[0m\u001b[0;34m)\u001b[0m\u001b[0;34m\u001b[0m\u001b[0m\n",
      "\u001b[0;32m~/spark-2.3.0-bin-hadoop2.7/python/lib/py4j-0.10.6-src.zip/py4j/java_gateway.py\u001b[0m in \u001b[0;36msend_command\u001b[0;34m(self, command)\u001b[0m\n\u001b[1;32m   1053\u001b[0m \u001b[0;34m\u001b[0m\u001b[0m\n\u001b[1;32m   1054\u001b[0m         \u001b[0;32mtry\u001b[0m\u001b[0;34m:\u001b[0m\u001b[0;34m\u001b[0m\u001b[0m\n\u001b[0;32m-> 1055\u001b[0;31m             \u001b[0manswer\u001b[0m \u001b[0;34m=\u001b[0m \u001b[0msmart_decode\u001b[0m\u001b[0;34m(\u001b[0m\u001b[0mself\u001b[0m\u001b[0;34m.\u001b[0m\u001b[0mstream\u001b[0m\u001b[0;34m.\u001b[0m\u001b[0mreadline\u001b[0m\u001b[0;34m(\u001b[0m\u001b[0;34m)\u001b[0m\u001b[0;34m[\u001b[0m\u001b[0;34m:\u001b[0m\u001b[0;34m-\u001b[0m\u001b[0;36m1\u001b[0m\u001b[0;34m]\u001b[0m\u001b[0;34m)\u001b[0m\u001b[0;34m\u001b[0m\u001b[0m\n\u001b[0m\u001b[1;32m   1056\u001b[0m             \u001b[0mlogger\u001b[0m\u001b[0;34m.\u001b[0m\u001b[0mdebug\u001b[0m\u001b[0;34m(\u001b[0m\u001b[0;34m\"Answer received: {0}\"\u001b[0m\u001b[0;34m.\u001b[0m\u001b[0mformat\u001b[0m\u001b[0;34m(\u001b[0m\u001b[0manswer\u001b[0m\u001b[0;34m)\u001b[0m\u001b[0;34m)\u001b[0m\u001b[0;34m\u001b[0m\u001b[0m\n\u001b[1;32m   1057\u001b[0m             \u001b[0;32mif\u001b[0m \u001b[0manswer\u001b[0m\u001b[0;34m.\u001b[0m\u001b[0mstartswith\u001b[0m\u001b[0;34m(\u001b[0m\u001b[0mproto\u001b[0m\u001b[0;34m.\u001b[0m\u001b[0mRETURN_MESSAGE\u001b[0m\u001b[0;34m)\u001b[0m\u001b[0;34m:\u001b[0m\u001b[0;34m\u001b[0m\u001b[0m\n",
      "\u001b[0;32m~/anaconda3/lib/python3.6/socket.py\u001b[0m in \u001b[0;36mreadinto\u001b[0;34m(self, b)\u001b[0m\n\u001b[1;32m    584\u001b[0m         \u001b[0;32mwhile\u001b[0m \u001b[0;32mTrue\u001b[0m\u001b[0;34m:\u001b[0m\u001b[0;34m\u001b[0m\u001b[0m\n\u001b[1;32m    585\u001b[0m             \u001b[0;32mtry\u001b[0m\u001b[0;34m:\u001b[0m\u001b[0;34m\u001b[0m\u001b[0m\n\u001b[0;32m--> 586\u001b[0;31m                 \u001b[0;32mreturn\u001b[0m \u001b[0mself\u001b[0m\u001b[0;34m.\u001b[0m\u001b[0m_sock\u001b[0m\u001b[0;34m.\u001b[0m\u001b[0mrecv_into\u001b[0m\u001b[0;34m(\u001b[0m\u001b[0mb\u001b[0m\u001b[0;34m)\u001b[0m\u001b[0;34m\u001b[0m\u001b[0m\n\u001b[0m\u001b[1;32m    587\u001b[0m             \u001b[0;32mexcept\u001b[0m \u001b[0mtimeout\u001b[0m\u001b[0;34m:\u001b[0m\u001b[0;34m\u001b[0m\u001b[0m\n\u001b[1;32m    588\u001b[0m                 \u001b[0mself\u001b[0m\u001b[0;34m.\u001b[0m\u001b[0m_timeout_occurred\u001b[0m \u001b[0;34m=\u001b[0m \u001b[0;32mTrue\u001b[0m\u001b[0;34m\u001b[0m\u001b[0m\n",
      "\u001b[0;31mKeyboardInterrupt\u001b[0m: "
     ]
    }
   ],
   "source": [
    "print('run MBA algorithm')\n",
    "\n",
    "start = time.time()\n",
    "assocRules = run_MBA(transactions)\n",
    "\n",
    "# use filter\n",
    "for ar in assocRules.filter(lambda x: x[0] in kept_keys).collect():\n",
    "# for ar in assocRules.take(1):    \n",
    "    \n",
    "    print(ar)\n",
    "\n",
    "    print()\n",
    "    item_name = id2name[ar[0][0]]\n",
    "    print(item_name + ' : ')\n",
    "    for i in range(len(ar[1])):\n",
    "        other_item_name = id2name[ar[1][i][0]]\n",
    "        print('\\t' + other_item_name + str(ar[1][i][1]))\n",
    "        \n",
    "end = time.time()"
   ]
  },
  {
   "cell_type": "code",
   "execution_count": 1,
   "metadata": {},
   "outputs": [
    {
     "data": {
      "text/plain": [
       "'\\nDue to hardware constraints, we could not run the experiment locally, since the amount of files stored in /tmp/ would become too big (~50gb).\\nHowever, it took several hours (~4) to run the code before it crashed, so we can report this preliminary numbers. Please report to the GCP\\nexperiments for the results.\\n\\n'"
      ]
     },
     "execution_count": 1,
     "metadata": {},
     "output_type": "execute_result"
    }
   ],
   "source": [
    "# Locally\n",
    "\n",
    "\"\"\"\n",
    "Due to hardware constraints, we could not run the experiment locally, since the amount of files stored in /tmp/ would become too big (~50gb).\n",
    "However, it took several hours (~4) to run the code before it crashed, so we can report this preliminary numbers. Please report to the GCP\n",
    "experiments for the results.\n",
    "\n",
    "\"\"\""
   ]
  },
  {
   "cell_type": "code",
   "execution_count": null,
   "metadata": {},
   "outputs": [],
   "source": [
    "# On Google Cloud Platform\n",
    "print(\"When run on GCP : \\n-----------------\")\n",
    "print(\"Total time : %02dmin %02.3f s\" % ((end-start)//60, (end-start)%60))\n"
   ]
  }
 ],
 "metadata": {
  "kernelspec": {
   "display_name": "Python 3",
   "language": "python",
   "name": "python3"
  },
  "language_info": {
   "codemirror_mode": {
    "name": "ipython",
    "version": 3
   },
   "file_extension": ".py",
   "mimetype": "text/x-python",
   "name": "python",
   "nbconvert_exporter": "python",
   "pygments_lexer": "ipython3",
   "version": "3.6.4"
  }
 },
 "nbformat": 4,
 "nbformat_minor": 2
}
